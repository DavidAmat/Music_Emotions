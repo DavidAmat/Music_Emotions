{
 "cells": [
  {
   "cell_type": "code",
   "execution_count": 1,
   "metadata": {},
   "outputs": [
    {
     "name": "stdout",
     "output_type": "stream",
     "text": [
      "Collecting spotipy\n",
      "  Downloading https://files.pythonhosted.org/packages/41/22/f9a512195293edb835908568ce040d3b7733b5ddeee76f3369f8ae072aca/spotipy-2.11.1-py3-none-any.whl\n",
      "Requirement already satisfied, skipping upgrade: requests>=2.20.0 in c:\\users\\marta\\anaconda3\\lib\\site-packages (from spotipy) (2.22.0)\n",
      "Requirement already satisfied, skipping upgrade: six>=1.10.0 in c:\\users\\marta\\anaconda3\\lib\\site-packages (from spotipy) (1.12.0)\n",
      "Requirement already satisfied, skipping upgrade: chardet<3.1.0,>=3.0.2 in c:\\users\\marta\\anaconda3\\lib\\site-packages (from requests>=2.20.0->spotipy) (3.0.4)\n",
      "Requirement already satisfied, skipping upgrade: urllib3!=1.25.0,!=1.25.1,<1.26,>=1.21.1 in c:\\users\\marta\\anaconda3\\lib\\site-packages (from requests>=2.20.0->spotipy) (1.24.2)\n",
      "Requirement already satisfied, skipping upgrade: certifi>=2017.4.17 in c:\\users\\marta\\anaconda3\\lib\\site-packages (from requests>=2.20.0->spotipy) (2019.6.16)\n",
      "Requirement already satisfied, skipping upgrade: idna<2.9,>=2.5 in c:\\users\\marta\\anaconda3\\lib\\site-packages (from requests>=2.20.0->spotipy) (2.8)\n",
      "Installing collected packages: spotipy\n",
      "Successfully installed spotipy-2.11.1\n"
     ]
    }
   ],
   "source": [
    "#! pip install spotipy --upgrade  \n",
    "#https://spotipy.readthedocs.io/en/latest/"
   ]
  },
  {
   "cell_type": "code",
   "execution_count": 1,
   "metadata": {},
   "outputs": [],
   "source": [
    "import os\n",
    "import sys\n",
    "import json \n",
    "import webbrowser\n",
    "import spotipy\n",
    "import spotipy.util as util\n",
    "from json.decoder import JSONDecodeError"
   ]
  },
  {
   "cell_type": "code",
   "execution_count": 5,
   "metadata": {},
   "outputs": [],
   "source": [
    "#username= 1110620649\n",
    "scope = 'user-library-read'\n",
    "\n",
    "if len(sys.argv) > 1:\n",
    "    username = sys.argv[1]\n",
    "else:\n",
    "    print(\"Usage: %s username\" % (sys.argv[0],))\n",
    "    sys.exit()"
   ]
  },
  {
   "cell_type": "code",
   "execution_count": 6,
   "metadata": {},
   "outputs": [
    {
     "name": "stdout",
     "output_type": "stream",
     "text": [
      "-f\n"
     ]
    }
   ],
   "source": [
    "print(username)"
   ]
  },
  {
   "cell_type": "code",
   "execution_count": 2,
   "metadata": {},
   "outputs": [],
   "source": [
    "username= 1110620649"
   ]
  },
  {
   "cell_type": "code",
   "execution_count": 3,
   "metadata": {},
   "outputs": [
    {
     "name": "stderr",
     "output_type": "stream",
     "text": [
      "C:\\Users\\Marta\\Anaconda3\\lib\\site-packages\\ipykernel_launcher.py:15: DeprecationWarning: You're using 'as_dict = True'.get_access_token will return the token string directly in future versions. Please adjust your code accordingly, or use get_cached_token instead.\n",
      "  from ipykernel import kernelapp as app\n"
     ]
    }
   ],
   "source": [
    "import configparser\n",
    "import spotipy.oauth2 as oauth2\n",
    "\n",
    "config = configparser.ConfigParser()\n",
    "config.read('config.cfg')\n",
    "client_id = config.get('SPOTIFY', 'CLIENT_ID')\n",
    "client_secret = config.get('SPOTIFY', 'CLIENT_SECRET')\n",
    "\n",
    "\n",
    "auth = oauth2.SpotifyClientCredentials(\n",
    "    client_id=client_id,\n",
    "    client_secret=client_secret\n",
    ")\n",
    "\n",
    "token = auth.get_access_token()\n",
    "spotify = spotipy.Spotify(auth=token)"
   ]
  },
  {
   "cell_type": "code",
   "execution_count": null,
   "metadata": {},
   "outputs": [],
   "source": [
    "#Get tid"
   ]
  },
  {
   "cell_type": "code",
   "execution_count": 10,
   "metadata": {},
   "outputs": [
    {
     "data": {
      "text/plain": [
       "'BQAmEpR4FB5G1Aj9hizxUpO030Ts-k17kOBPpHP2r2ftDRD-HOnX6cg7A4AZtW1RLov2xuvQfU5sH5qqjvY'"
      ]
     },
     "execution_count": 10,
     "metadata": {},
     "output_type": "execute_result"
    }
   ],
   "source": [
    "token"
   ]
  },
  {
   "cell_type": "code",
   "execution_count": 11,
   "metadata": {},
   "outputs": [
    {
     "name": "stdout",
     "output_type": "stream",
     "text": [
      "[\n",
      "    {\n",
      "        \"danceability\": 0.609,\n",
      "        \"energy\": 0.435,\n",
      "        \"key\": 11,\n",
      "        \"loudness\": -7.862,\n",
      "        \"mode\": 0,\n",
      "        \"speechiness\": 0.284,\n",
      "        \"acousticness\": 0.524,\n",
      "        \"instrumentalness\": 0,\n",
      "        \"liveness\": 0.118,\n",
      "        \"valence\": 0.563,\n",
      "        \"tempo\": 131.998,\n",
      "        \"type\": \"audio_features\",\n",
      "        \"id\": \"4TTV7EcfroSLWzXRY6gLv6\",\n",
      "        \"uri\": \"spotify:track:4TTV7EcfroSLWzXRY6gLv6\",\n",
      "        \"track_href\": \"https://api.spotify.com/v1/tracks/4TTV7EcfroSLWzXRY6gLv6\",\n",
      "        \"analysis_url\": \"https://api.spotify.com/v1/audio-analysis/4TTV7EcfroSLWzXRY6gLv6\",\n",
      "        \"duration_ms\": 236738,\n",
      "        \"time_signature\": 4\n",
      "    }\n",
      "]\n",
      "analysis retrieved in 0.14 seconds\n"
     ]
    }
   ],
   "source": [
    "from __future__ import print_function    # (at top of module)\n",
    "#from spotipy.oauth2 import SpotifyClientCredentials\n",
    "import time\n",
    "\n",
    "\n",
    "#client_credentials_manager = SpotifyClientCredentials()\n",
    "sp = spotipy.Spotify(client_credentials_manager=auth)\n",
    "\n",
    "tid = 'spotify:track:4TTV7EcfroSLWzXRY6gLv6'\n",
    "\n",
    "start = time.time()\n",
    "analysis = sp.audio_features(tid)\n",
    "delta = time.time() - start\n",
    "print(json.dumps(analysis, indent=4))\n",
    "print(\"analysis retrieved in %.2f seconds\" % (delta,))"
   ]
  },
  {
   "cell_type": "code",
   "execution_count": 7,
   "metadata": {},
   "outputs": [
    {
     "data": {
      "text/plain": [
       "0.563"
      ]
     },
     "execution_count": 7,
     "metadata": {},
     "output_type": "execute_result"
    }
   ],
   "source": [
    "analysis[0][\"valence\"]"
   ]
  },
  {
   "cell_type": "code",
   "execution_count": null,
   "metadata": {},
   "outputs": [],
   "source": [
    "a"
   ]
  }
 ],
 "metadata": {
  "kernelspec": {
   "display_name": "Python 3",
   "language": "python",
   "name": "python3"
  },
  "language_info": {
   "codemirror_mode": {
    "name": "ipython",
    "version": 3
   },
   "file_extension": ".py",
   "mimetype": "text/x-python",
   "name": "python",
   "nbconvert_exporter": "python",
   "pygments_lexer": "ipython3",
   "version": "3.7.4"
  }
 },
 "nbformat": 4,
 "nbformat_minor": 2
}
