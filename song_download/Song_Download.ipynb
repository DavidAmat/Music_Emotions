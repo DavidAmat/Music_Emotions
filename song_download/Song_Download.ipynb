{
 "cells": [
  {
   "cell_type": "code",
   "execution_count": 1,
   "metadata": {},
   "outputs": [],
   "source": [
    "# Database\n",
    "import sqlalchemy as db\n",
    "import pandas as pd\n",
    "import sys\n",
    "import os\n",
    "import time\n",
    "import numpy as np\n",
    "import tqdm\n",
    "from string import ascii_lowercase, ascii_uppercase\n",
    "import subprocess\n",
    "\n",
    "# Logging\n",
    "from v_log import VLogger\n",
    "import logging"
   ]
  },
  {
   "cell_type": "code",
   "execution_count": 2,
   "metadata": {},
   "outputs": [],
   "source": [
    "# Arguments\n",
    "batch_num = 0"
   ]
  },
  {
   "cell_type": "code",
   "execution_count": null,
   "metadata": {},
   "outputs": [],
   "source": [
    "# Start logging\n",
    "#log = VLogger(f'Batch {batch_num}', uri_log=f\"log/WebScrap_nonmatch.log\", file_log_level = logging.INFO)"
   ]
  },
  {
   "cell_type": "markdown",
   "metadata": {},
   "source": [
    "# 1. Load the clean database"
   ]
  },
  {
   "cell_type": "code",
   "execution_count": 3,
   "metadata": {},
   "outputs": [],
   "source": [
    "## 1.1 Connect to the database CLEAN\n",
    "\n",
    "#Paths\n",
    "path_db_final = os.path.join(\"..\",\"data\",\"MSD\",\"clean.db\")\n",
    "path_sql_connection_db =  'sqlite:///' + path_db_final\n",
    "\n",
    "#Connect\n",
    "engine = db.create_engine(path_sql_connection_db)\n",
    "connection = engine.connect()"
   ]
  },
  {
   "cell_type": "code",
   "execution_count": 4,
   "metadata": {},
   "outputs": [],
   "source": [
    "def query_db(qq, con = connection, to_df = False):\n",
    "    res = con.execute(qq)\n",
    "    if to_df:\n",
    "        return pd.DataFrame(res.fetchall())\n",
    "    else:\n",
    "        return res.fetchall()"
   ]
  },
  {
   "cell_type": "code",
   "execution_count": 8,
   "metadata": {},
   "outputs": [],
   "source": [
    "# Take all songs and clean the titles and create a set to compare with yt titles\n",
    "df = query_db(f\"SELECT * FROM match where batch_id = {batch_num} \", to_df=True)\n",
    "df.columns = [\"track_id\",\"url\",\"batch_id\"]"
   ]
  },
  {
   "cell_type": "markdown",
   "metadata": {},
   "source": [
    "# 2. Create File System in a volume (run once)"
   ]
  },
  {
   "cell_type": "code",
   "execution_count": 42,
   "metadata": {},
   "outputs": [],
   "source": [
    "def create_filesystem(path_disk):\n",
    "    #path_disk = \"E:\\SATURDAYS\"\n",
    "    if len(os.listdir(path_disk))==0:\n",
    "        for c0 in ascii_uppercase:\n",
    "            # Level 0\n",
    "            path_dest_lv0 = os.path.join(path_disk,c0)\n",
    "            os.system(f\"mkdir {path_dest_lv0}\")\n",
    "\n",
    "            # Level 1\n",
    "            for c1 in ascii_uppercase:\n",
    "                path_dest_lv1 = os.path.join(path_disk,c0,c1)\n",
    "                os.system(f\"mkdir {path_dest_lv1}\")\n",
    "\n",
    "                # Level 1\n",
    "                for c2 in ascii_uppercase:\n",
    "                    path_dest_lv2 = os.path.join(path_disk,c0,c1,c2)\n",
    "                    os.system(f\"mkdir {path_dest_lv2}\")\n",
    "    return \"Done!\""
   ]
  },
  {
   "cell_type": "code",
   "execution_count": 43,
   "metadata": {},
   "outputs": [
    {
     "data": {
      "text/plain": [
       "'Done!'"
      ]
     },
     "execution_count": 43,
     "metadata": {},
     "output_type": "execute_result"
    }
   ],
   "source": [
    "#create_filesystem(path_disk)"
   ]
  },
  {
   "cell_type": "markdown",
   "metadata": {},
   "source": [
    "# 3. Direct the download to the corresponding folder"
   ]
  },
  {
   "cell_type": "code",
   "execution_count": 55,
   "metadata": {},
   "outputs": [],
   "source": [
    "def find_path_track(path_disk, track_id, extension = \".mp3\"):\n",
    "    folder1 = track_id[1]; folder2 = track_id[2]; folder3 = track_id[3];\n",
    "    path = os.path.join(path_disk, folder1,folder2,folder3,track_id + extension)\n",
    "    return path"
   ]
  },
  {
   "cell_type": "code",
   "execution_count": 156,
   "metadata": {},
   "outputs": [],
   "source": [
    "def comando_youtube(track_id, path_disk, query):\n",
    "    comando1 = f'youtube-dl -ci -f \"worstaudio\" -x --audio-format mp3 '\n",
    "    url = query\n",
    "    path_output = find_path_track(path_disk, track_id)\n",
    "    #path_output = os.path.join(path_disk,track_id +\".mp3\") #borrar\n",
    "    comando2 = f\" --output {path_output}\"\n",
    "    return comando1 + url + comando2"
   ]
  },
  {
   "cell_type": "code",
   "execution_count": 157,
   "metadata": {},
   "outputs": [],
   "source": [
    "# def comando_youtube2(track_id, path_disk, query):\n",
    "#     comando1 = f'youtube-dl -x '\n",
    "#     url = query\n",
    "#     path_output = find_path_track(path_disk, track_id)\n",
    "#     path_output = os.path.join(path_disk,track_id +\".mp3\") #borrar\n",
    "#     comando2 = f\" --output {path_output}\"\n",
    "#     return comando1 + url + comando2"
   ]
  },
  {
   "cell_type": "markdown",
   "metadata": {},
   "source": [
    "# 4. Iterate to download songs"
   ]
  },
  {
   "cell_type": "code",
   "execution_count": 158,
   "metadata": {},
   "outputs": [],
   "source": [
    "def query_insert(qq, con = connection):\n",
    "    try:\n",
    "        res = con.execute(qq)\n",
    "        return res\n",
    "    except:\n",
    "        return False    \n",
    "\n",
    "def insert_downloads(dmatch, batch_num):\n",
    "    query_insert_string = \"insert into downloads values \"\n",
    "    for track_id, exito in dmatch.items():\n",
    "        query_insert_string += f\"('{track_id}', '{batch_num}', '{exito}'),\"\n",
    "    query_insert_string = query_insert_string[:-1]\n",
    "    query_insert_string = query_insert_string + \";\"\n",
    "    \n",
    "    # Insert\n",
    "    try:\n",
    "        res = query_insert(query_insert_string)\n",
    "        return res, query_insert_string\n",
    "    except:\n",
    "        return False, query_insert_string   \n",
    "    \n",
    "def get_audio_size(url,max_audio_size = 6):\n",
    "    direct_output = subprocess.check_output(f'youtube-dl -F {url}', shell=True) \n",
    "    words_output = str(direct_output).split(\"\\\\n\")\n",
    "    for word in words_output:\n",
    "        if \"MiB\" in word:\n",
    "            try:\n",
    "                size_audio = re.findall(r\"(\\d+)(\\.\\d*)?MiB\",word)\n",
    "                size_audio_MiB = int(size_audio[0][0])\n",
    "                break\n",
    "            except:\n",
    "                size_audio_MiB = 1000;\n",
    "    if size_audio_MiB < max_audio_size:\n",
    "        return True # the size is less than the maximum, hence, download it!\n",
    "    else:\n",
    "        return False"
   ]
  },
  {
   "cell_type": "code",
   "execution_count": 159,
   "metadata": {},
   "outputs": [],
   "source": [
    "df_sample = df.sample(20, random_state=42)"
   ]
  },
  {
   "cell_type": "code",
   "execution_count": 160,
   "metadata": {},
   "outputs": [
    {
     "data": {
      "text/html": [
       "<div>\n",
       "<style scoped>\n",
       "    .dataframe tbody tr th:only-of-type {\n",
       "        vertical-align: middle;\n",
       "    }\n",
       "\n",
       "    .dataframe tbody tr th {\n",
       "        vertical-align: top;\n",
       "    }\n",
       "\n",
       "    .dataframe thead th {\n",
       "        text-align: right;\n",
       "    }\n",
       "</style>\n",
       "<table border=\"1\" class=\"dataframe\">\n",
       "  <thead>\n",
       "    <tr style=\"text-align: right;\">\n",
       "      <th></th>\n",
       "      <th>track_id</th>\n",
       "      <th>url</th>\n",
       "      <th>batch_id</th>\n",
       "    </tr>\n",
       "  </thead>\n",
       "  <tbody>\n",
       "    <tr>\n",
       "      <th>950</th>\n",
       "      <td>TRPYCEA128F42264D2</td>\n",
       "      <td>https://www.youtube.com/watch?v=DirmGKf8Ndo</td>\n",
       "      <td>0</td>\n",
       "    </tr>\n",
       "    <tr>\n",
       "      <th>1468</th>\n",
       "      <td>TRCQHVB128F92F5413</td>\n",
       "      <td>https://www.youtube.com/watch?v=eZfTqqjoIsY</td>\n",
       "      <td>0</td>\n",
       "    </tr>\n",
       "    <tr>\n",
       "      <th>609</th>\n",
       "      <td>TRAOPVD128F425A989</td>\n",
       "      <td>https://www.youtube.com/watch?v=e-IF_rFya7Q</td>\n",
       "      <td>0</td>\n",
       "    </tr>\n",
       "    <tr>\n",
       "      <th>495</th>\n",
       "      <td>TRXAAQG128F4273E8A</td>\n",
       "      <td>https://www.youtube.com/watch?v=GbiaQIdoyBU</td>\n",
       "      <td>0</td>\n",
       "    </tr>\n",
       "    <tr>\n",
       "      <th>1323</th>\n",
       "      <td>TRGXUEQ12903D117DE</td>\n",
       "      <td>https://www.youtube.com/watch?v=15v0-9VU6Q0</td>\n",
       "      <td>0</td>\n",
       "    </tr>\n",
       "  </tbody>\n",
       "</table>\n",
       "</div>"
      ],
      "text/plain": [
       "                track_id                                          url  \\\n",
       "950   TRPYCEA128F42264D2  https://www.youtube.com/watch?v=DirmGKf8Ndo   \n",
       "1468  TRCQHVB128F92F5413  https://www.youtube.com/watch?v=eZfTqqjoIsY   \n",
       "609   TRAOPVD128F425A989  https://www.youtube.com/watch?v=e-IF_rFya7Q   \n",
       "495   TRXAAQG128F4273E8A  https://www.youtube.com/watch?v=GbiaQIdoyBU   \n",
       "1323  TRGXUEQ12903D117DE  https://www.youtube.com/watch?v=15v0-9VU6Q0   \n",
       "\n",
       "      batch_id  \n",
       "950          0  \n",
       "1468         0  \n",
       "609          0  \n",
       "495          0  \n",
       "1323         0  "
      ]
     },
     "execution_count": 160,
     "metadata": {},
     "output_type": "execute_result"
    }
   ],
   "source": [
    "df_sample.head()"
   ]
  },
  {
   "cell_type": "code",
   "execution_count": 162,
   "metadata": {},
   "outputs": [
    {
     "name": "stderr",
     "output_type": "stream",
     "text": [
      "\n",
      "0it [00:00, ?it/s]\u001b[A\n",
      "1it [00:05,  5.32s/it]\u001b[A\n",
      "2it [00:09,  5.03s/it]\u001b[A\n",
      "3it [00:14,  4.89s/it]\u001b[A\n",
      "4it [00:18,  4.84s/it]\u001b[A\n",
      "5it [00:23,  4.61s/it]\u001b[A\n",
      "6it [00:24,  3.78s/it]\u001b[A\n",
      "7it [00:29,  4.03s/it]\u001b[A\n",
      "8it [00:34,  4.23s/it]\u001b[A\n",
      "9it [00:39,  4.44s/it]\u001b[A\n",
      "10it [00:43,  4.57s/it]\u001b[A\n",
      "11it [00:48,  4.56s/it]\u001b[A\n",
      "12it [00:52,  4.46s/it]\u001b[A\n",
      "13it [00:57,  4.54s/it]\u001b[A\n",
      "14it [01:02,  4.55s/it]\u001b[A\n",
      "15it [01:06,  4.54s/it]\u001b[A\n",
      "16it [01:08,  3.74s/it]\u001b[A\n",
      "17it [01:12,  3.93s/it]\u001b[A\n",
      "18it [01:17,  4.12s/it]\u001b[A\n",
      "19it [01:21,  4.25s/it]\u001b[A\n",
      "20it [01:26,  4.33s/it]\u001b[A\n"
     ]
    }
   ],
   "source": [
    "dmatch = dict() # value 1 or 0 if it has been downloaded or not\n",
    "\n",
    "for ii, row in tqdm.tqdm(df_sample.iterrows()):\n",
    "    track_id, query, _  = row\n",
    "    \n",
    "    # Check if the size is reasonable\n",
    "    if get_audio_size(query, max_audio_size = 6):\n",
    "        \n",
    "        try:\n",
    "            # Create the command to download it\n",
    "            run_command = comando_youtube(track_id, path_disk, query)\n",
    "\n",
    "            # Execute the command and download it\n",
    "            os.system(run_command)\n",
    "            \n",
    "            # Update the dictionary of matchs and nonmatchs\n",
    "            dmatch[track_id] = 1\n",
    "        except:\n",
    "            dmatch[track_id] = 0 #error downloading\n",
    "    else: # if the size is too big\n",
    "        dmatch[track_id] = 2 #size is too big\n",
    "    if (ii % 5) == 0:\n",
    "        res_insert,que_insert = insert_downloads(dmatch, batch_num)\n",
    "            "
   ]
  },
  {
   "cell_type": "code",
   "execution_count": 151,
   "metadata": {},
   "outputs": [
    {
     "data": {
      "text/plain": [
       "'https://www.youtube.com/watch?v=15v0-9VU6Q0'"
      ]
     },
     "execution_count": 151,
     "metadata": {},
     "output_type": "execute_result"
    }
   ],
   "source": [
    "query"
   ]
  },
  {
   "cell_type": "code",
   "execution_count": null,
   "metadata": {},
   "outputs": [],
   "source": []
  },
  {
   "cell_type": "code",
   "execution_count": null,
   "metadata": {},
   "outputs": [],
   "source": []
  },
  {
   "cell_type": "code",
   "execution_count": null,
   "metadata": {},
   "outputs": [],
   "source": []
  },
  {
   "cell_type": "code",
   "execution_count": null,
   "metadata": {},
   "outputs": [],
   "source": []
  },
  {
   "cell_type": "code",
   "execution_count": null,
   "metadata": {},
   "outputs": [],
   "source": []
  },
  {
   "cell_type": "code",
   "execution_count": null,
   "metadata": {},
   "outputs": [],
   "source": []
  }
 ],
 "metadata": {
  "kernelspec": {
   "display_name": "Python 3",
   "language": "python",
   "name": "python3"
  },
  "language_info": {
   "codemirror_mode": {
    "name": "ipython",
    "version": 3
   },
   "file_extension": ".py",
   "mimetype": "text/x-python",
   "name": "python",
   "nbconvert_exporter": "python",
   "pygments_lexer": "ipython3",
   "version": "3.7.4"
  }
 },
 "nbformat": 4,
 "nbformat_minor": 4
}
