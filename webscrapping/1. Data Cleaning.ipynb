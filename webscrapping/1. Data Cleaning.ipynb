{
 "cells": [
  {
   "cell_type": "markdown",
   "metadata": {},
   "source": [
    "# <font size = 15> 1. Data Cleaning\n",
    "    \n",
    "<font size = 4>This is the first step. Cleaning data from the database \"raw.db\" and creating a table in the \"clean.db\" database that has all the artist names corrected and with a unique identifier for the same name. We have filtered names that do not coincide their artist_names with the artist_id (given 1 artist_id there were different artist_names non-coinciding) and we have created the longest common string for those cases in which artists_names coincide inside the same artist_id but if looking at substrings (i.e Rihanna, Rihanna feat Eminem,... will be under the same artist_iid (**internal artist_id created to identify uniquely an artist_name**)"
   ]
  },
  {
   "cell_type": "code",
   "execution_count": 2,
   "metadata": {},
   "outputs": [],
   "source": [
    "# Database\n",
    "import sqlalchemy as db\n",
    "import pandas as pd\n",
    "import sys\n",
    "import os\n",
    "import time\n",
    "import numpy as np\n",
    "import tqdm"
   ]
  },
  {
   "cell_type": "code",
   "execution_count": 189,
   "metadata": {},
   "outputs": [],
   "source": [
    "def timeit(method):\n",
    "    def timed(*args, **kw):\n",
    "        ts = time.time()\n",
    "        result = method(*args, **kw)\n",
    "        te = time.time()\n",
    "        print('%2.2f ms' % ((te - ts) * 1000))\n",
    "        return result\n",
    "    return timed\n",
    "\n",
    "def long_substr(data):\n",
    "    \"\"\"\n",
    "    To find the longest common substring in artist name different in same artist-id\n",
    "    \"\"\"\n",
    "    substr = ''\n",
    "    if len(data) > 1 and len(data[0]) > 0:\n",
    "        for i in range(len(data[0])):\n",
    "            for j in range(len(data[0])-i+1):\n",
    "                if j > len(substr) and all(data[0][i:i+j] in x for x in data):\n",
    "                    substr = data[0][i:i+j]\n",
    "    return substr"
   ]
  },
  {
   "cell_type": "markdown",
   "metadata": {},
   "source": [
    "# 1. Create the list of artists and songs to look for"
   ]
  },
  {
   "cell_type": "markdown",
   "metadata": {},
   "source": [
    "## 1.1 Connect to the database"
   ]
  },
  {
   "cell_type": "code",
   "execution_count": 392,
   "metadata": {},
   "outputs": [],
   "source": [
    "#Paths\n",
    "path_db = os.path.join(\"..\",\"data\",\"MSD\",\"raw.db\")\n",
    "path_sql_connection_db =  'sqlite:///' + path_db\n",
    "\n",
    "#Connect\n",
    "engine = db.create_engine(path_sql_connection_db)\n",
    "connection = engine.connect()"
   ]
  },
  {
   "cell_type": "code",
   "execution_count": 393,
   "metadata": {},
   "outputs": [],
   "source": [
    "#@timeit\n",
    "def query_db(qq, con = connection, to_df = False):\n",
    "    res = con.execute(qq)\n",
    "    if to_df:\n",
    "        return pd.DataFrame(res.fetchall())\n",
    "    else:\n",
    "        return res.fetchall()"
   ]
  },
  {
   "cell_type": "markdown",
   "metadata": {},
   "source": [
    "## 1.2 Get the set of artists\n",
    "\n",
    "Get a set of all the artists in the DB:"
   ]
  },
  {
   "cell_type": "code",
   "execution_count": 218,
   "metadata": {},
   "outputs": [],
   "source": [
    "get_artists = query_db(\"SELECT DISTINCT(artist_id) from YOUTUBE_URL\",to_df = True)\n",
    "get_artists_names = query_db(\"SELECT DISTINCT(artist_name) from YOUTUBE_URL\",to_df = True)\n",
    "get_artists.columns = [\"artist_id\"]; get_artists_names.columns = [\"artist_name\"]"
   ]
  },
  {
   "cell_type": "code",
   "execution_count": 219,
   "metadata": {},
   "outputs": [
    {
     "data": {
      "text/plain": [
       "(44745, 1)"
      ]
     },
     "execution_count": 219,
     "metadata": {},
     "output_type": "execute_result"
    }
   ],
   "source": [
    "get_artists.shape"
   ]
  },
  {
   "cell_type": "code",
   "execution_count": 221,
   "metadata": {},
   "outputs": [
    {
     "data": {
      "text/plain": [
       "(72665, 1)"
      ]
     },
     "execution_count": 221,
     "metadata": {},
     "output_type": "execute_result"
    }
   ],
   "source": [
    "get_artists_names.shape"
   ]
  },
  {
   "cell_type": "markdown",
   "metadata": {},
   "source": [
    "Convert this set to a list to be able to iterate"
   ]
  },
  {
   "cell_type": "code",
   "execution_count": 184,
   "metadata": {},
   "outputs": [],
   "source": [
    "sample_artists = list(get_artists[\"artist_id\"])"
   ]
  },
  {
   "cell_type": "markdown",
   "metadata": {},
   "source": [
    "## 1.3 For one artist get the song names\n",
    "\n",
    "We do longest common substring intersection. We will save all the artist_id and the common substring intersection in a dictionary to see for all the 44,000 artists, how many can we find a unique name that matches all the registers (artist_name) with that artist_id. To do so we create 2 dictionaries to store the artist_id if we can find a common substring in the artist_names and one dictionary for the deleted artists."
   ]
  },
  {
   "cell_type": "code",
   "execution_count": 251,
   "metadata": {},
   "outputs": [],
   "source": [
    "def get_art_names(art_q):\n",
    "    query_songs = f\"SELECT DISTINCT track_id, title, artist_id, artist_name from YOUTUBE_URL where artist_id = '{art_q}'\"\n",
    "    df_songs_art = query_db(query_songs, to_df = True); \n",
    "    df_songs_art.columns = [\"track_id\", \"title\", \"artist_id\", \"artist_name\"];\n",
    "\n",
    "    # Join the title and the artist name\n",
    "    df_songs_art[\"tit&art\"] = df_songs_art[\"title\"] + \" \" + df_songs_art[\"artist_name\"]\n",
    "    df_songs_art[\"tit&art\"] = df_songs_art[\"tit&art\"].str.lower()\n",
    "    df_songs_art[\"title\"] = df_songs_art[\"title\"].str.lower()\n",
    "\n",
    "    #Get artist name (this helps to define the query)\n",
    "    art_name = list(set(df_songs_art[\"artist_name\"]))\n",
    "    return art_name"
   ]
  },
  {
   "cell_type": "code",
   "execution_count": 252,
   "metadata": {},
   "outputs": [
    {
     "data": {
      "application/vnd.jupyter.widget-view+json": {
       "model_id": "ceee5340a9f24f08be9f8e3d14e8fe26",
       "version_major": 2,
       "version_minor": 0
      },
      "text/plain": [
       "HBox(children=(FloatProgress(value=0.0, max=44745.0), HTML(value='')))"
      ]
     },
     "metadata": {},
     "output_type": "display_data"
    },
    {
     "name": "stdout",
     "output_type": "stream",
     "text": [
      "\n"
     ]
    }
   ],
   "source": [
    "dict_artistId2artistQuery = dict()\n",
    "dict_artistId2NOTquery = dict()\n",
    "\n",
    "for art_q in tqdm.notebook.tqdm(sample_artists):\n",
    "    # Use the function above\n",
    "    art_name = get_art_names(art_q)\n",
    "\n",
    "    if len(art_name)>1:\n",
    "\n",
    "        #In case more than 1 artist name is found for this unique artist_id, find the intersection\n",
    "        # Find the Longest common substring\n",
    "        artist_common_name = long_substr(art_name).strip() #avoid white spaces in the first and last position of the LCS\n",
    "\n",
    "        # If no matchings\n",
    "        if len(artist_common_name) == 0:\n",
    "            dict_artistId2NOTquery[art_q] = art_name\n",
    "            continue\n",
    "        else:\n",
    "            dict_artistId2artistQuery[art_q] = artist_common_name\n",
    "    elif len(art_name) == 1:\n",
    "        dict_artistId2artistQuery[art_q] = art_name[0]\n",
    "    else:\n",
    "        print(\"Exiting 2\")\n",
    "        break"
   ]
  },
  {
   "cell_type": "markdown",
   "metadata": {},
   "source": [
    "For each artist in the common longest substring, we have to ensure that the common string is not just 2 letters (i.e artists = [\"ABBA\", \"BANANAS\"] then the common substring will be \"BA\", but \"BA\" is not in the set of artists!)"
   ]
  },
  {
   "cell_type": "code",
   "execution_count": 353,
   "metadata": {},
   "outputs": [],
   "source": [
    "# We want to keep the pairs id-name\n",
    "df_artistname_artistid =  query_db(\"SELECT DISTINCT artist_id, artist_name from YOUTUBE_URL\",to_df = True)\n",
    "df_artistname_artistid.columns = [\"artist_id\", \"artist_name\"]\n",
    "\n",
    "# Set of the pairs id-name\n",
    "set_art_artid = set()\n",
    "for xx in df_artistname_artistid.values:\n",
    "    set_art_artid.add(tuple(xx))"
   ]
  },
  {
   "cell_type": "code",
   "execution_count": 354,
   "metadata": {},
   "outputs": [
    {
     "data": {
      "application/vnd.jupyter.widget-view+json": {
       "model_id": "760c1003a81b415b831d09ec032e6db4",
       "version_major": 2,
       "version_minor": 0
      },
      "text/plain": [
       "HBox(children=(FloatProgress(value=0.0, max=43480.0), HTML(value='')))"
      ]
     },
     "metadata": {},
     "output_type": "display_data"
    },
    {
     "name": "stdout",
     "output_type": "stream",
     "text": [
      "\n"
     ]
    }
   ],
   "source": [
    "#Check if that pair is in the database\n",
    "dict_consensus_artist_names = dict()\n",
    "\n",
    "# Get the artist_names which coincides in all the artists names of that id\n",
    "for kk,vv in tqdm.notebook.tqdm(dict_artistId2artistQuery.items()):\n",
    "    # if the name of the consensus artists is itself an artist name\n",
    "    if (kk,vv) in set_art_artid: \n",
    "        # add its id and the consensus name to the dictionary\n",
    "        dict_consensus_artist_names[kk] = vv "
   ]
  },
  {
   "cell_type": "markdown",
   "metadata": {},
   "source": [
    "**Create the consensus artist_name (the ones for which a single artist_id can identify them)**"
   ]
  },
  {
   "cell_type": "code",
   "execution_count": 356,
   "metadata": {},
   "outputs": [],
   "source": [
    "df_consensus_artists = pd.DataFrame({\"artist_id\": np.array(list(dict_consensus_artist_names.keys())),\n",
    "              \"artist_name\": np.array(list(dict_consensus_artist_names.values()))})\n",
    "\n",
    "# Mask:\n",
    "\n",
    "#Remove all the consensus artists which name is only digits\n",
    "df_consensus_artists = df_consensus_artists[~df_consensus_artists[\"artist_name\"].str.isnumeric()]\n",
    "\n",
    "# Remove artist names with a single letter\n",
    "df_consensus_artists = df_consensus_artists[df_consensus_artists.artist_name.str.len() > 1]"
   ]
  },
  {
   "cell_type": "code",
   "execution_count": 357,
   "metadata": {},
   "outputs": [
    {
     "data": {
      "text/plain": [
       "(36180, 2)"
      ]
     },
     "execution_count": 357,
     "metadata": {},
     "output_type": "execute_result"
    }
   ],
   "source": [
    "df_consensus_artists.shape"
   ]
  },
  {
   "cell_type": "markdown",
   "metadata": {},
   "source": [
    "# 2. Create an internal identifier\n",
    "\n",
    "To denote uniquely each artist_name and be able to search only once this name"
   ]
  },
  {
   "cell_type": "code",
   "execution_count": 409,
   "metadata": {},
   "outputs": [],
   "source": [
    "df_artname_id = df_consensus_artists[\"artist_name\"].drop_duplicates().reset_index()\n",
    "df_artname_id.columns = [\"artist_iid\",\"artist_name\"]\n",
    "\n",
    "# Merge that artist_iid (internal identifier) to the df_consensus_artists\n",
    "df_consensus_artists_final = pd.merge(df_consensus_artists, df_artname_id, how = \"inner\", on = \"artist_name\")"
   ]
  },
  {
   "cell_type": "markdown",
   "metadata": {},
   "source": [
    "# 3. Join that internal identifier to the full database of MSD\n",
    "\n",
    "Up to now the main task has been to find artist_id that are equivalent, by looking at all the artists_name inside each id and finding the longest common substring for such artists so that they have the common name for all the songs. We have created an internal identifier to mark each unique artist name and now we want to join using the artist_id to the full dataset, and retrieving the fields \"artist_name\" and \"artist_iid\" for the df_consensus_artists_final:"
   ]
  },
  {
   "cell_type": "code",
   "execution_count": 394,
   "metadata": {},
   "outputs": [],
   "source": [
    "# Get all the database for the RAW database\n",
    "df = query_db(qq=\"SELECT * from youtube_url\", to_df=True)\n",
    "df.columns = [\"track_id\",\"title\",\"artist_id\",\"artist_name\",\"yt_url\",\"duration\",\"year\"]\n",
    "connection.close()"
   ]
  },
  {
   "cell_type": "markdown",
   "metadata": {},
   "source": [
    "Perform the merge:"
   ]
  },
  {
   "cell_type": "code",
   "execution_count": 420,
   "metadata": {},
   "outputs": [
    {
     "data": {
      "text/html": [
       "<div>\n",
       "<style scoped>\n",
       "    .dataframe tbody tr th:only-of-type {\n",
       "        vertical-align: middle;\n",
       "    }\n",
       "\n",
       "    .dataframe tbody tr th {\n",
       "        vertical-align: top;\n",
       "    }\n",
       "\n",
       "    .dataframe thead th {\n",
       "        text-align: right;\n",
       "    }\n",
       "</style>\n",
       "<table border=\"1\" class=\"dataframe\">\n",
       "  <thead>\n",
       "    <tr style=\"text-align: right;\">\n",
       "      <th></th>\n",
       "      <th>track_id</th>\n",
       "      <th>title</th>\n",
       "      <th>artist_id</th>\n",
       "      <th>artist_name</th>\n",
       "      <th>yt_url</th>\n",
       "      <th>duration</th>\n",
       "      <th>year</th>\n",
       "    </tr>\n",
       "  </thead>\n",
       "  <tbody>\n",
       "    <tr>\n",
       "      <th>0</th>\n",
       "      <td>TRMMMYQ128F932D901</td>\n",
       "      <td>Silent Night</td>\n",
       "      <td>ARYZTJS1187B98C555</td>\n",
       "      <td>Faster Pussy cat</td>\n",
       "      <td></td>\n",
       "      <td>252.05506</td>\n",
       "      <td>2003</td>\n",
       "    </tr>\n",
       "    <tr>\n",
       "      <th>1</th>\n",
       "      <td>TRMMMKD128F425225D</td>\n",
       "      <td>Tanssi vaan</td>\n",
       "      <td>ARMVN3U1187FB3A1EB</td>\n",
       "      <td>Karkkiautomaatti</td>\n",
       "      <td></td>\n",
       "      <td>156.55138</td>\n",
       "      <td>1995</td>\n",
       "    </tr>\n",
       "    <tr>\n",
       "      <th>2</th>\n",
       "      <td>TRMMMRX128F93187D9</td>\n",
       "      <td>No One Could Ever</td>\n",
       "      <td>ARGEKB01187FB50750</td>\n",
       "      <td>Hudson Mohawke</td>\n",
       "      <td></td>\n",
       "      <td>138.97098</td>\n",
       "      <td>2006</td>\n",
       "    </tr>\n",
       "    <tr>\n",
       "      <th>3</th>\n",
       "      <td>TRMMMCH128F425532C</td>\n",
       "      <td>Si Vos Querés</td>\n",
       "      <td>ARNWYLR1187B9B2F9C</td>\n",
       "      <td>Yerba Brava</td>\n",
       "      <td></td>\n",
       "      <td>145.05751</td>\n",
       "      <td>2003</td>\n",
       "    </tr>\n",
       "    <tr>\n",
       "      <th>4</th>\n",
       "      <td>TRMMMWA128F426B589</td>\n",
       "      <td>Tangle Of Aspens</td>\n",
       "      <td>AREQDTE1269FB37231</td>\n",
       "      <td>Der Mystic</td>\n",
       "      <td></td>\n",
       "      <td>514.29832</td>\n",
       "      <td>0</td>\n",
       "    </tr>\n",
       "  </tbody>\n",
       "</table>\n",
       "</div>"
      ],
      "text/plain": [
       "             track_id              title           artist_id  \\\n",
       "0  TRMMMYQ128F932D901       Silent Night  ARYZTJS1187B98C555   \n",
       "1  TRMMMKD128F425225D        Tanssi vaan  ARMVN3U1187FB3A1EB   \n",
       "2  TRMMMRX128F93187D9  No One Could Ever  ARGEKB01187FB50750   \n",
       "3  TRMMMCH128F425532C      Si Vos Querés  ARNWYLR1187B9B2F9C   \n",
       "4  TRMMMWA128F426B589   Tangle Of Aspens  AREQDTE1269FB37231   \n",
       "\n",
       "        artist_name yt_url   duration  year  \n",
       "0  Faster Pussy cat         252.05506  2003  \n",
       "1  Karkkiautomaatti         156.55138  1995  \n",
       "2    Hudson Mohawke         138.97098  2006  \n",
       "3       Yerba Brava         145.05751  2003  \n",
       "4        Der Mystic         514.29832     0  "
      ]
     },
     "execution_count": 420,
     "metadata": {},
     "output_type": "execute_result"
    }
   ],
   "source": [
    "df.head()"
   ]
  },
  {
   "cell_type": "code",
   "execution_count": 421,
   "metadata": {},
   "outputs": [
    {
     "data": {
      "text/html": [
       "<div>\n",
       "<style scoped>\n",
       "    .dataframe tbody tr th:only-of-type {\n",
       "        vertical-align: middle;\n",
       "    }\n",
       "\n",
       "    .dataframe tbody tr th {\n",
       "        vertical-align: top;\n",
       "    }\n",
       "\n",
       "    .dataframe thead th {\n",
       "        text-align: right;\n",
       "    }\n",
       "</style>\n",
       "<table border=\"1\" class=\"dataframe\">\n",
       "  <thead>\n",
       "    <tr style=\"text-align: right;\">\n",
       "      <th></th>\n",
       "      <th>artist_id</th>\n",
       "      <th>artist_name</th>\n",
       "      <th>artist_iid</th>\n",
       "    </tr>\n",
       "  </thead>\n",
       "  <tbody>\n",
       "    <tr>\n",
       "      <th>0</th>\n",
       "      <td>AR002UA1187B9A637D</td>\n",
       "      <td>The Bristols</td>\n",
       "      <td>0</td>\n",
       "    </tr>\n",
       "    <tr>\n",
       "      <th>1</th>\n",
       "      <td>AR006821187FB5192B</td>\n",
       "      <td>Stephen Varcoe</td>\n",
       "      <td>1</td>\n",
       "    </tr>\n",
       "    <tr>\n",
       "      <th>2</th>\n",
       "      <td>AR009211187B989185</td>\n",
       "      <td>Carroll Thompson</td>\n",
       "      <td>2</td>\n",
       "    </tr>\n",
       "    <tr>\n",
       "      <th>3</th>\n",
       "      <td>AR009SZ1187B9A73F4</td>\n",
       "      <td>Gorodisch</td>\n",
       "      <td>3</td>\n",
       "    </tr>\n",
       "    <tr>\n",
       "      <th>4</th>\n",
       "      <td>AR00A1N1187FB484EB</td>\n",
       "      <td>1.000 Mexicans</td>\n",
       "      <td>4</td>\n",
       "    </tr>\n",
       "  </tbody>\n",
       "</table>\n",
       "</div>"
      ],
      "text/plain": [
       "            artist_id       artist_name  artist_iid\n",
       "0  AR002UA1187B9A637D      The Bristols           0\n",
       "1  AR006821187FB5192B    Stephen Varcoe           1\n",
       "2  AR009211187B989185  Carroll Thompson           2\n",
       "3  AR009SZ1187B9A73F4         Gorodisch           3\n",
       "4  AR00A1N1187FB484EB    1.000 Mexicans           4"
      ]
     },
     "execution_count": 421,
     "metadata": {},
     "output_type": "execute_result"
    }
   ],
   "source": [
    "df_consensus_artists_final.head()"
   ]
  },
  {
   "cell_type": "code",
   "execution_count": 422,
   "metadata": {},
   "outputs": [],
   "source": [
    "df_final = pd.merge(df[[\"track_id\",\"title\",\"artist_id\",\"yt_url\",\"duration\",\"year\"]],\n",
    "                   df_consensus_artists_final,\n",
    "                   on = [\"artist_id\"],\n",
    "                   how = \"inner\")"
   ]
  },
  {
   "cell_type": "markdown",
   "metadata": {},
   "source": [
    "Unique artist names:"
   ]
  },
  {
   "cell_type": "code",
   "execution_count": 425,
   "metadata": {},
   "outputs": [
    {
     "data": {
      "text/plain": [
       "35678"
      ]
     },
     "execution_count": 425,
     "metadata": {},
     "output_type": "execute_result"
    }
   ],
   "source": [
    "len(set(df_final.artist_name))"
   ]
  },
  {
   "cell_type": "markdown",
   "metadata": {},
   "source": [
    "Unique artist id:"
   ]
  },
  {
   "cell_type": "code",
   "execution_count": 426,
   "metadata": {},
   "outputs": [
    {
     "data": {
      "text/plain": [
       "36180"
      ]
     },
     "execution_count": 426,
     "metadata": {},
     "output_type": "execute_result"
    }
   ],
   "source": [
    "len(set(df_final.artist_id))"
   ]
  },
  {
   "cell_type": "markdown",
   "metadata": {},
   "source": [
    "Unique artist iid:"
   ]
  },
  {
   "cell_type": "code",
   "execution_count": 427,
   "metadata": {},
   "outputs": [
    {
     "data": {
      "text/plain": [
       "35678"
      ]
     },
     "execution_count": 427,
     "metadata": {},
     "output_type": "execute_result"
    }
   ],
   "source": [
    "len(set(df_final.artist_iid))"
   ]
  },
  {
   "cell_type": "markdown",
   "metadata": {},
   "source": [
    "Head:"
   ]
  },
  {
   "cell_type": "code",
   "execution_count": 424,
   "metadata": {},
   "outputs": [
    {
     "data": {
      "text/html": [
       "<div>\n",
       "<style scoped>\n",
       "    .dataframe tbody tr th:only-of-type {\n",
       "        vertical-align: middle;\n",
       "    }\n",
       "\n",
       "    .dataframe tbody tr th {\n",
       "        vertical-align: top;\n",
       "    }\n",
       "\n",
       "    .dataframe thead th {\n",
       "        text-align: right;\n",
       "    }\n",
       "</style>\n",
       "<table border=\"1\" class=\"dataframe\">\n",
       "  <thead>\n",
       "    <tr style=\"text-align: right;\">\n",
       "      <th></th>\n",
       "      <th>track_id</th>\n",
       "      <th>title</th>\n",
       "      <th>artist_id</th>\n",
       "      <th>yt_url</th>\n",
       "      <th>duration</th>\n",
       "      <th>year</th>\n",
       "      <th>artist_name</th>\n",
       "      <th>artist_iid</th>\n",
       "    </tr>\n",
       "  </thead>\n",
       "  <tbody>\n",
       "    <tr>\n",
       "      <th>0</th>\n",
       "      <td>TRMMMKD128F425225D</td>\n",
       "      <td>Tanssi vaan</td>\n",
       "      <td>ARMVN3U1187FB3A1EB</td>\n",
       "      <td></td>\n",
       "      <td>156.55138</td>\n",
       "      <td>1995</td>\n",
       "      <td>Karkkiautomaatti</td>\n",
       "      <td>21822</td>\n",
       "    </tr>\n",
       "    <tr>\n",
       "      <th>1</th>\n",
       "      <td>TRMLAVN128F4252261</td>\n",
       "      <td>Yeah yeah Jenni</td>\n",
       "      <td>ARMVN3U1187FB3A1EB</td>\n",
       "      <td></td>\n",
       "      <td>92.52526</td>\n",
       "      <td>1995</td>\n",
       "      <td>Karkkiautomaatti</td>\n",
       "      <td>21822</td>\n",
       "    </tr>\n",
       "    <tr>\n",
       "      <th>2</th>\n",
       "      <td>TRWUBYW128F4252258</td>\n",
       "      <td>Äl-oo-vee</td>\n",
       "      <td>ARMVN3U1187FB3A1EB</td>\n",
       "      <td></td>\n",
       "      <td>76.77342</td>\n",
       "      <td>1995</td>\n",
       "      <td>Karkkiautomaatti</td>\n",
       "      <td>21822</td>\n",
       "    </tr>\n",
       "    <tr>\n",
       "      <th>3</th>\n",
       "      <td>TRGBNVG128F425224D</td>\n",
       "      <td>Jää beibi jää</td>\n",
       "      <td>ARMVN3U1187FB3A1EB</td>\n",
       "      <td></td>\n",
       "      <td>107.59791</td>\n",
       "      <td>1995</td>\n",
       "      <td>Karkkiautomaatti</td>\n",
       "      <td>21822</td>\n",
       "    </tr>\n",
       "    <tr>\n",
       "      <th>4</th>\n",
       "      <td>TRBZRME128F425225E</td>\n",
       "      <td>Takaisin en tuu</td>\n",
       "      <td>ARMVN3U1187FB3A1EB</td>\n",
       "      <td></td>\n",
       "      <td>80.61342</td>\n",
       "      <td>1995</td>\n",
       "      <td>Karkkiautomaatti</td>\n",
       "      <td>21822</td>\n",
       "    </tr>\n",
       "  </tbody>\n",
       "</table>\n",
       "</div>"
      ],
      "text/plain": [
       "             track_id            title           artist_id yt_url   duration  \\\n",
       "0  TRMMMKD128F425225D      Tanssi vaan  ARMVN3U1187FB3A1EB         156.55138   \n",
       "1  TRMLAVN128F4252261  Yeah yeah Jenni  ARMVN3U1187FB3A1EB          92.52526   \n",
       "2  TRWUBYW128F4252258        Äl-oo-vee  ARMVN3U1187FB3A1EB          76.77342   \n",
       "3  TRGBNVG128F425224D    Jää beibi jää  ARMVN3U1187FB3A1EB         107.59791   \n",
       "4  TRBZRME128F425225E  Takaisin en tuu  ARMVN3U1187FB3A1EB          80.61342   \n",
       "\n",
       "   year       artist_name  artist_iid  \n",
       "0  1995  Karkkiautomaatti       21822  \n",
       "1  1995  Karkkiautomaatti       21822  \n",
       "2  1995  Karkkiautomaatti       21822  \n",
       "3  1995  Karkkiautomaatti       21822  \n",
       "4  1995  Karkkiautomaatti       21822  "
      ]
     },
     "execution_count": 424,
     "metadata": {},
     "output_type": "execute_result"
    }
   ],
   "source": [
    "df_final.head()"
   ]
  },
  {
   "cell_type": "markdown",
   "metadata": {},
   "source": [
    "## 3.1 Create a new database with the clean data"
   ]
  },
  {
   "cell_type": "code",
   "execution_count": 433,
   "metadata": {},
   "outputs": [],
   "source": [
    "## 1.1 Connect to the database CLEAN\n",
    "\n",
    "#Paths\n",
    "path_db_final = os.path.join(\"..\",\"data\",\"MSD\",\"clean.db\")\n",
    "path_sql_connection_db =  'sqlite:///' + path_db_final\n",
    "\n",
    "#Connect\n",
    "engine = db.create_engine(path_sql_connection_db)\n",
    "connection = engine.connect()"
   ]
  },
  {
   "cell_type": "code",
   "execution_count": 437,
   "metadata": {},
   "outputs": [],
   "source": [
    "df_final.to_sql('youtube_url', con = engine, index = False)"
   ]
  },
  {
   "cell_type": "code",
   "execution_count": 438,
   "metadata": {},
   "outputs": [],
   "source": [
    "connection.close()"
   ]
  },
  {
   "cell_type": "code",
   "execution_count": 439,
   "metadata": {},
   "outputs": [
    {
     "data": {
      "text/plain": [
       "(700382, 8)"
      ]
     },
     "execution_count": 439,
     "metadata": {},
     "output_type": "execute_result"
    }
   ],
   "source": [
    "df_final.shape"
   ]
  },
  {
   "cell_type": "code",
   "execution_count": null,
   "metadata": {},
   "outputs": [],
   "source": []
  }
 ],
 "metadata": {
  "kernelspec": {
   "display_name": "Python 3",
   "language": "python",
   "name": "python3"
  },
  "language_info": {
   "codemirror_mode": {
    "name": "ipython",
    "version": 3
   },
   "file_extension": ".py",
   "mimetype": "text/x-python",
   "name": "python",
   "nbconvert_exporter": "python",
   "pygments_lexer": "ipython3",
   "version": "3.7.4"
  }
 },
 "nbformat": 4,
 "nbformat_minor": 4
}
