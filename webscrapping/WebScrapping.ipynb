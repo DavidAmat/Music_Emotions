{
 "cells": [
  {
   "cell_type": "code",
   "execution_count": 2,
   "metadata": {},
   "outputs": [],
   "source": [
    "# Web Scrapping: Selenium\n",
    "from selenium import webdriver\n",
    "from selenium.webdriver.common.by import By\n",
    "from selenium.webdriver.support.ui import WebDriverWait\n",
    "from selenium.webdriver.support import expected_conditions as EC\n",
    "from selenium.common.exceptions import TimeoutException"
   ]
  },
  {
   "cell_type": "code",
   "execution_count": 79,
   "metadata": {},
   "outputs": [],
   "source": [
    "# Database\n",
    "import sqlalchemy as db\n",
    "import pandas as pd\n",
    "import sys\n",
    "import os\n",
    "import time\n"
   ]
  },
  {
   "cell_type": "code",
   "execution_count": 32,
   "metadata": {},
   "outputs": [],
   "source": [
    "def timeit(method):\n",
    "    def timed(*args, **kw):\n",
    "        ts = time.time()\n",
    "        result = method(*args, **kw)\n",
    "        te = time.time()\n",
    "        print('%2.2f ms' % ((te - ts) * 1000))\n",
    "        return result\n",
    "    return timed"
   ]
  },
  {
   "cell_type": "code",
   "execution_count": 37,
   "metadata": {},
   "outputs": [],
   "source": [
    "@timeit\n",
    "def query_db(qq, con = connection, to_df = False):\n",
    "    res = con.execute(qq)\n",
    "    if to_df:\n",
    "        return pd.DataFrame(res.fetchall())\n",
    "    else:\n",
    "        return res.fetchall()\n",
    "\n",
    "def read_titles(fichero):\n",
    "    df_titles = pd.read_csv(fichero,delimiter = '<SEP>', \n",
    "            header = None, names = [\"aId\", \"NestId\",\"artist\", \"title\"], encoding = 'utf-8')\n",
    "    return df_titles"
   ]
  },
  {
   "cell_type": "markdown",
   "metadata": {},
   "source": [
    "# 1. Create the list of artists and songs to look for"
   ]
  },
  {
   "cell_type": "markdown",
   "metadata": {},
   "source": [
    "## 1.1 Connect to the database"
   ]
  },
  {
   "cell_type": "code",
   "execution_count": 9,
   "metadata": {},
   "outputs": [],
   "source": [
    "#Paths\n",
    "path_db = os.path.join(\"..\",\"data\",\"MSD\",\"youtubeURL.db\")\n",
    "path_sql_connection_db =  'sqlite:///' + path_db\n",
    "\n",
    "#Connect\n",
    "engine = db.create_engine(path_sql_connection_db)\n",
    "connection = engine.connect()"
   ]
  },
  {
   "cell_type": "code",
   "execution_count": 123,
   "metadata": {},
   "outputs": [],
   "source": [
    "connection.close()"
   ]
  },
  {
   "cell_type": "code",
   "execution_count": 40,
   "metadata": {},
   "outputs": [],
   "source": [
    "#query_db(\"SELECT COUNT(DISTINCT(artist_id)) FROM YOUTUBE_URL\")"
   ]
  },
  {
   "cell_type": "code",
   "execution_count": 39,
   "metadata": {},
   "outputs": [],
   "source": [
    "#query_db(\"SELECT * from YOUTUBE_URL where artist_id = 'ARZNFNV1187FB3DA62'\",to_df = True)"
   ]
  },
  {
   "cell_type": "markdown",
   "metadata": {},
   "source": [
    "## 1.2 Get the set of artists"
   ]
  },
  {
   "cell_type": "code",
   "execution_count": 44,
   "metadata": {},
   "outputs": [
    {
     "name": "stdout",
     "output_type": "stream",
     "text": [
      "279.41 ms\n"
     ]
    }
   ],
   "source": [
    "get_artists = query_db(\"SELECT DISTINCT(artist_id) from YOUTUBE_URL\",to_df = True)\n",
    "get_artists.columns = [\"artist_id\"]"
   ]
  },
  {
   "cell_type": "code",
   "execution_count": 47,
   "metadata": {},
   "outputs": [],
   "source": [
    "sample_artists = list(get_artists[\"artist_id\"].head())"
   ]
  },
  {
   "cell_type": "code",
   "execution_count": 48,
   "metadata": {},
   "outputs": [
    {
     "data": {
      "text/plain": [
       "['AR002UA1187B9A637D',\n",
       " 'AR003FB1187B994355',\n",
       " 'AR006821187FB5192B',\n",
       " 'AR009211187B989185',\n",
       " 'AR009SZ1187B9A73F4']"
      ]
     },
     "execution_count": 48,
     "metadata": {},
     "output_type": "execute_result"
    }
   ],
   "source": [
    "sample_artists"
   ]
  },
  {
   "cell_type": "markdown",
   "metadata": {},
   "source": [
    "## 1.3 For one artist get the song names"
   ]
  },
  {
   "cell_type": "code",
   "execution_count": 121,
   "metadata": {},
   "outputs": [
    {
     "name": "stdout",
     "output_type": "stream",
     "text": [
      "1.02 ms\n"
     ]
    }
   ],
   "source": [
    "# Song query by id\n",
    "art_q = sample_artists[0]\n",
    "art_q = \"AR002UA1187B9A637D\"\n",
    "query_songs = f\"SELECT DISTINCT track_id, title, artist_id, artist_name from YOUTUBE_URL where artist_id = '{art_q}'\"\n",
    "df_songs_art = query_db(query_songs, to_df = True); \n",
    "df_songs_art.columns = [\"track_id\", \"title\", \"artist_id\", \"artist_name\"];\n",
    "\n",
    "# Join the title and the artist name\n",
    "df_songs_art[\"tit&art\"] = df_songs_art[\"title\"] + \" \" + df_songs_art[\"artist_name\"]\n",
    "df_songs_art[\"tit&art\"] = df_songs_art[\"tit&art\"].str.lower()"
   ]
  },
  {
   "cell_type": "code",
   "execution_count": 122,
   "metadata": {},
   "outputs": [
    {
     "data": {
      "text/html": [
       "<div>\n",
       "<style scoped>\n",
       "    .dataframe tbody tr th:only-of-type {\n",
       "        vertical-align: middle;\n",
       "    }\n",
       "\n",
       "    .dataframe tbody tr th {\n",
       "        vertical-align: top;\n",
       "    }\n",
       "\n",
       "    .dataframe thead th {\n",
       "        text-align: right;\n",
       "    }\n",
       "</style>\n",
       "<table border=\"1\" class=\"dataframe\">\n",
       "  <thead>\n",
       "    <tr style=\"text-align: right;\">\n",
       "      <th></th>\n",
       "      <th>track_id</th>\n",
       "      <th>title</th>\n",
       "      <th>artist_id</th>\n",
       "      <th>artist_name</th>\n",
       "      <th>tit&amp;art</th>\n",
       "    </tr>\n",
       "  </thead>\n",
       "  <tbody>\n",
       "    <tr>\n",
       "      <th>0</th>\n",
       "      <td>TRMUOZE12903CDF721</td>\n",
       "      <td>A Picture Of You</td>\n",
       "      <td>AR002UA1187B9A637D</td>\n",
       "      <td>The Bristols</td>\n",
       "      <td>a picture of you the bristols</td>\n",
       "    </tr>\n",
       "    <tr>\n",
       "      <th>1</th>\n",
       "      <td>TRQAUBZ12903CDF733</td>\n",
       "      <td>The Beating Of My Heart</td>\n",
       "      <td>AR002UA1187B9A637D</td>\n",
       "      <td>The Bristols</td>\n",
       "      <td>the beating of my heart the bristols</td>\n",
       "    </tr>\n",
       "    <tr>\n",
       "      <th>2</th>\n",
       "      <td>TRAFPWS12903CDF737</td>\n",
       "      <td>I'll Be Gone</td>\n",
       "      <td>AR002UA1187B9A637D</td>\n",
       "      <td>The Bristols</td>\n",
       "      <td>i'll be gone the bristols</td>\n",
       "    </tr>\n",
       "    <tr>\n",
       "      <th>3</th>\n",
       "      <td>TRNBXWJ12903CDF72B</td>\n",
       "      <td>Little Baby</td>\n",
       "      <td>AR002UA1187B9A637D</td>\n",
       "      <td>The Bristols</td>\n",
       "      <td>little baby the bristols</td>\n",
       "    </tr>\n",
       "    <tr>\n",
       "      <th>4</th>\n",
       "      <td>TREYJSR12903CDF71B</td>\n",
       "      <td>You're a Moody Guy</td>\n",
       "      <td>AR002UA1187B9A637D</td>\n",
       "      <td>The Bristols</td>\n",
       "      <td>you're a moody guy the bristols</td>\n",
       "    </tr>\n",
       "    <tr>\n",
       "      <th>5</th>\n",
       "      <td>TRVIMSB12903CDF720</td>\n",
       "      <td>So Fine</td>\n",
       "      <td>AR002UA1187B9A637D</td>\n",
       "      <td>The Bristols</td>\n",
       "      <td>so fine the bristols</td>\n",
       "    </tr>\n",
       "    <tr>\n",
       "      <th>6</th>\n",
       "      <td>TRDXGYA12903CDF729</td>\n",
       "      <td>Who Does She Think She Is</td>\n",
       "      <td>AR002UA1187B9A637D</td>\n",
       "      <td>The Bristols</td>\n",
       "      <td>who does she think she is the bristols</td>\n",
       "    </tr>\n",
       "    <tr>\n",
       "      <th>7</th>\n",
       "      <td>TRYESJS12903CDF730</td>\n",
       "      <td>Old Man Mose</td>\n",
       "      <td>AR002UA1187B9A637D</td>\n",
       "      <td>The Bristols</td>\n",
       "      <td>old man mose the bristols</td>\n",
       "    </tr>\n",
       "    <tr>\n",
       "      <th>8</th>\n",
       "      <td>TRYEKZM12903CDF71D</td>\n",
       "      <td>Romeo And Juliet</td>\n",
       "      <td>AR002UA1187B9A637D</td>\n",
       "      <td>The Bristols</td>\n",
       "      <td>romeo and juliet the bristols</td>\n",
       "    </tr>\n",
       "  </tbody>\n",
       "</table>\n",
       "</div>"
      ],
      "text/plain": [
       "             track_id                      title           artist_id  \\\n",
       "0  TRMUOZE12903CDF721           A Picture Of You  AR002UA1187B9A637D   \n",
       "1  TRQAUBZ12903CDF733    The Beating Of My Heart  AR002UA1187B9A637D   \n",
       "2  TRAFPWS12903CDF737               I'll Be Gone  AR002UA1187B9A637D   \n",
       "3  TRNBXWJ12903CDF72B                Little Baby  AR002UA1187B9A637D   \n",
       "4  TREYJSR12903CDF71B         You're a Moody Guy  AR002UA1187B9A637D   \n",
       "5  TRVIMSB12903CDF720                    So Fine  AR002UA1187B9A637D   \n",
       "6  TRDXGYA12903CDF729  Who Does She Think She Is  AR002UA1187B9A637D   \n",
       "7  TRYESJS12903CDF730               Old Man Mose  AR002UA1187B9A637D   \n",
       "8  TRYEKZM12903CDF71D           Romeo And Juliet  AR002UA1187B9A637D   \n",
       "\n",
       "    artist_name                                 tit&art  \n",
       "0  The Bristols           a picture of you the bristols  \n",
       "1  The Bristols    the beating of my heart the bristols  \n",
       "2  The Bristols               i'll be gone the bristols  \n",
       "3  The Bristols                little baby the bristols  \n",
       "4  The Bristols         you're a moody guy the bristols  \n",
       "5  The Bristols                    so fine the bristols  \n",
       "6  The Bristols  who does she think she is the bristols  \n",
       "7  The Bristols               old man mose the bristols  \n",
       "8  The Bristols           romeo and juliet the bristols  "
      ]
     },
     "execution_count": 122,
     "metadata": {},
     "output_type": "execute_result"
    }
   ],
   "source": [
    "df_songs_art"
   ]
  },
  {
   "cell_type": "code",
   "execution_count": 101,
   "metadata": {},
   "outputs": [],
   "source": [
    "dict_songs_art = dict()\n",
    "for ii,row in df_songs_art.iterrows():\n",
    "    track_id, title, artist_id, artist_name, titart = row\n",
    "    # IMPORTANT!! Here we set that the words in the title should match the TITLE of the MSD\n",
    "    dict_songs_art[track_id] = title.split(\" \")"
   ]
  },
  {
   "cell_type": "code",
   "execution_count": 102,
   "metadata": {},
   "outputs": [
    {
     "data": {
      "text/plain": [
       "{'TRMUOZE12903CDF721': ['a', 'picture', 'of', 'you', 'the', 'bristols'],\n",
       " 'TRQAUBZ12903CDF733': ['the',\n",
       "  'beating',\n",
       "  'of',\n",
       "  'my',\n",
       "  'heart',\n",
       "  'the',\n",
       "  'bristols'],\n",
       " 'TRAFPWS12903CDF737': [\"i'll\", 'be', 'gone', 'the', 'bristols'],\n",
       " 'TRNBXWJ12903CDF72B': ['little', 'baby', 'the', 'bristols'],\n",
       " 'TREYJSR12903CDF71B': [\"you're\", 'a', 'moody', 'guy', 'the', 'bristols'],\n",
       " 'TRVIMSB12903CDF720': ['so', 'fine', 'the', 'bristols'],\n",
       " 'TRDXGYA12903CDF729': ['who',\n",
       "  'does',\n",
       "  'she',\n",
       "  'think',\n",
       "  'she',\n",
       "  'is',\n",
       "  'the',\n",
       "  'bristols'],\n",
       " 'TRYESJS12903CDF730': ['old', 'man', 'mose', 'the', 'bristols'],\n",
       " 'TRYEKZM12903CDF71D': ['romeo', 'and', 'juliet', 'the', 'bristols']}"
      ]
     },
     "execution_count": 102,
     "metadata": {},
     "output_type": "execute_result"
    }
   ],
   "source": [
    "dict_songs_art"
   ]
  },
  {
   "cell_type": "markdown",
   "metadata": {},
   "source": [
    "# 2. WebScrapping"
   ]
  },
  {
   "cell_type": "code",
   "execution_count": 96,
   "metadata": {},
   "outputs": [],
   "source": [
    "browser = webdriver.Chrome()"
   ]
  },
  {
   "cell_type": "code",
   "execution_count": 5,
   "metadata": {},
   "outputs": [],
   "source": [
    "query=\"Rihanna\"\n",
    "browser.get(f\"https://www.youtube.com/results?search_query={query}\")"
   ]
  },
  {
   "cell_type": "code",
   "execution_count": 7,
   "metadata": {},
   "outputs": [],
   "source": [
    "# ids = browser.find_elements_by_xpath('//*[@href]')\n",
    "# for ii in ids:\n",
    "#     print(ii.get_attribute('href'))"
   ]
  },
  {
   "cell_type": "code",
   "execution_count": 8,
   "metadata": {},
   "outputs": [],
   "source": [
    "# ids = browser.find_elements_by_xpath('//*[@href]')\n",
    "# for ii in ids:\n",
    "#     print(ii.get_attribute('title'))\n",
    "# (/*[@id=\"video-title\"]/yt-formatted-string)"
   ]
  },
  {
   "cell_type": "code",
   "execution_count": 9,
   "metadata": {},
   "outputs": [
    {
     "name": "stdout",
     "output_type": "stream",
     "text": [
      "titles:\n",
      "['Mix: Rihanna', 'Rihanna - Only Girl (In The World) (Official Music Video)', 'Rihanna - Diamonds', 'Rihanna - Diamonds', 'Rihanna - Love On The Brain', 'Rihanna - We Found Love ft. Calvin Harris', 'Rihanna - Man Down', 'Rihanna Megamix - The Adventures of BadGalRiRi (40+ Hits in 1 Megamix!)', 'Rihanna - Umbrella (Orange Version) (Official Music Video) ft. JAY-Z', 'DJ Khaled ft. Rihanna, Bryson Tiller - Wild Thoughts (Official Video)', \"Rihanna's Best Songs\", \"Rihanna - What's My Name? (Official Music Video) ft. Drake\", 'Rihanna - Only Girl (In The World) (Official Music Video)', 'Rihanna - Where Have You Been', 'Calvin Harris - This Is What You Came For (Official Video) ft. Rihanna', \"Rihanna - Don't Stop The Music\", 'Rihanna - Rude Boy (Official Music Video)', 'Rihanna - Needed Me', 'Eminem - Love The Way You Lie ft. Rihanna', 'Rihanna - Only Girl (In The World) (Official Music Video)', \"Rihanna - What's My Name? (Official Music Video) ft. Drake\", 'Rihanna Love On the Brain | Live at Global Citizen Festival 2016', \"Shakira - Can't Remember to Forget You ft. Rihanna\"] \n",
      "\n"
     ]
    }
   ],
   "source": [
    "ids = browser.find_elements_by_id('video-title')\n",
    "titles = [x.text for x in ids]\n",
    "# print out all the titles.\n",
    "print('titles:')\n",
    "print(titles, '\\n')"
   ]
  },
  {
   "cell_type": "code",
   "execution_count": null,
   "metadata": {},
   "outputs": [],
   "source": [
    "ids = browser.find_elements_by_id('video-title')\n",
    "titles = [x.text for x in ids]\n",
    "# print out all the titles.\n",
    "print('titles:')\n",
    "print(titles, '\\n')"
   ]
  },
  {
   "cell_type": "code",
   "execution_count": null,
   "metadata": {},
   "outputs": [],
   "source": [
    "ids = browser.find_elements_by_id('video-title')\n",
    "for ii in ids:\n",
    "    print(ii.get_attribute('title'))"
   ]
  },
  {
   "cell_type": "code",
   "execution_count": 10,
   "metadata": {},
   "outputs": [
    {
     "name": "stdout",
     "output_type": "stream",
     "text": [
      "None\n",
      "None\n",
      "None\n",
      "https://www.youtube.com/watch?v=lWA2pjMjpBs\n",
      "https://www.youtube.com/watch?v=0RyInjfgNc4\n",
      "https://www.youtube.com/watch?v=tg00YEETFzg\n",
      "https://www.youtube.com/watch?v=sEhy-RXkNo0\n",
      "https://www.youtube.com/watch?v=JUuw1O-SRts\n",
      "https://www.youtube.com/watch?v=CvBfHwUxHIk\n",
      "https://www.youtube.com/watch?v=fyaI4-5849w\n",
      "None\n",
      "None\n",
      "None\n",
      "https://www.youtube.com/watch?v=HBxt_v0WF6Y\n",
      "https://www.youtube.com/watch?v=kOkQ4T5WO9E\n",
      "https://www.youtube.com/watch?v=yd8jh9QYfEs\n",
      "https://www.youtube.com/watch?v=e82VE8UtW8A\n",
      "https://www.youtube.com/watch?v=wfN4PVaOU5Q\n",
      "https://www.youtube.com/watch?v=uelHwf8o7_U\n",
      "https://www.youtube.com/watch?v=pa14VNsdSYM\n",
      "https://www.youtube.com/watch?v=U0CGsw6h60k\n",
      "https://www.youtube.com/watch?v=yXvyJDqqQec\n",
      "https://www.youtube.com/watch?v=o3mP3mJDL2k\n"
     ]
    }
   ],
   "source": [
    "ids = browser.find_elements_by_id('video-title')\n",
    "for ii in ids:\n",
    "    print(ii.get_attribute('href'))"
   ]
  },
  {
   "cell_type": "code",
   "execution_count": 2,
   "metadata": {},
   "outputs": [
    {
     "ename": "ModuleNotFoundError",
     "evalue": "No module named 'numpy'",
     "output_type": "error",
     "traceback": [
      "\u001b[1;31m---------------------------------------------------------------------------\u001b[0m",
      "\u001b[1;31mModuleNotFoundError\u001b[0m                       Traceback (most recent call last)",
      "\u001b[1;32m<ipython-input-2-d4cdadb62aa7>\u001b[0m in \u001b[0;36m<module>\u001b[1;34m\u001b[0m\n\u001b[1;32m----> 1\u001b[1;33m \u001b[1;32mimport\u001b[0m \u001b[0mnumpy\u001b[0m\u001b[1;33m\u001b[0m\u001b[1;33m\u001b[0m\u001b[0m\n\u001b[0m",
      "\u001b[1;31mModuleNotFoundError\u001b[0m: No module named 'numpy'"
     ]
    }
   ],
   "source": [
    "ids = browser.find_elements_by_class_name('video-title')\n",
    "titles = [x.text for x in ids]\n",
    "# print out all the titles.\n",
    "print('titles:')\n",
    "print(titles, '\\n')"
   ]
  }
 ],
 "metadata": {
  "kernelspec": {
   "display_name": "Python 3",
   "language": "python",
   "name": "python3"
  },
  "language_info": {
   "codemirror_mode": {
    "name": "ipython",
    "version": 3
   },
   "file_extension": ".py",
   "mimetype": "text/x-python",
   "name": "python",
   "nbconvert_exporter": "python",
   "pygments_lexer": "ipython3",
   "version": "3.7.4"
  }
 },
 "nbformat": 4,
 "nbformat_minor": 4
}
