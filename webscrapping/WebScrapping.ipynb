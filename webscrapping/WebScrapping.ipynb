{
 "cells": [
  {
   "cell_type": "code",
   "execution_count": 3,
   "metadata": {},
   "outputs": [],
   "source": [
    "from selenium import webdriver\n",
    "from selenium.webdriver.common.by import By\n",
    "from selenium.webdriver.support.ui import WebDriverWait\n",
    "from selenium.webdriver.support import expected_conditions as EC\n",
    "from selenium.common.exceptions import TimeoutException"
   ]
  },
  {
   "cell_type": "code",
   "execution_count": 4,
   "metadata": {},
   "outputs": [],
   "source": [
    "browser = webdriver.Chrome()"
   ]
  },
  {
   "cell_type": "code",
   "execution_count": 5,
   "metadata": {},
   "outputs": [],
   "source": [
    "query=\"Rihanna\"\n",
    "browser.get(f\"https://www.youtube.com/results?search_query={query}\")"
   ]
  },
  {
   "cell_type": "code",
   "execution_count": 7,
   "metadata": {},
   "outputs": [],
   "source": [
    "# ids = browser.find_elements_by_xpath('//*[@href]')\n",
    "# for ii in ids:\n",
    "#     print(ii.get_attribute('href'))"
   ]
  },
  {
   "cell_type": "code",
   "execution_count": 8,
   "metadata": {},
   "outputs": [],
   "source": [
    "# ids = browser.find_elements_by_xpath('//*[@href]')\n",
    "# for ii in ids:\n",
    "#     print(ii.get_attribute('title'))\n",
    "# (/*[@id=\"video-title\"]/yt-formatted-string)"
   ]
  },
  {
   "cell_type": "code",
   "execution_count": 9,
   "metadata": {},
   "outputs": [
    {
     "name": "stdout",
     "output_type": "stream",
     "text": [
      "titles:\n",
      "['Mix: Rihanna', 'Rihanna - Only Girl (In The World) (Official Music Video)', 'Rihanna - Diamonds', 'Rihanna - Diamonds', 'Rihanna - Love On The Brain', 'Rihanna - We Found Love ft. Calvin Harris', 'Rihanna - Man Down', 'Rihanna Megamix - The Adventures of BadGalRiRi (40+ Hits in 1 Megamix!)', 'Rihanna - Umbrella (Orange Version) (Official Music Video) ft. JAY-Z', 'DJ Khaled ft. Rihanna, Bryson Tiller - Wild Thoughts (Official Video)', \"Rihanna's Best Songs\", \"Rihanna - What's My Name? (Official Music Video) ft. Drake\", 'Rihanna - Only Girl (In The World) (Official Music Video)', 'Rihanna - Where Have You Been', 'Calvin Harris - This Is What You Came For (Official Video) ft. Rihanna', \"Rihanna - Don't Stop The Music\", 'Rihanna - Rude Boy (Official Music Video)', 'Rihanna - Needed Me', 'Eminem - Love The Way You Lie ft. Rihanna', 'Rihanna - Only Girl (In The World) (Official Music Video)', \"Rihanna - What's My Name? (Official Music Video) ft. Drake\", 'Rihanna Love On the Brain | Live at Global Citizen Festival 2016', \"Shakira - Can't Remember to Forget You ft. Rihanna\"] \n",
      "\n"
     ]
    }
   ],
   "source": [
    "ids = browser.find_elements_by_id('video-title')\n",
    "titles = [x.text for x in ids]\n",
    "# print out all the titles.\n",
    "print('titles:')\n",
    "print(titles, '\\n')"
   ]
  },
  {
   "cell_type": "code",
   "execution_count": null,
   "metadata": {},
   "outputs": [],
   "source": [
    "ids = browser.find_elements_by_id('video-title')\n",
    "titles = [x.text for x in ids]\n",
    "# print out all the titles.\n",
    "print('titles:')\n",
    "print(titles, '\\n')"
   ]
  },
  {
   "cell_type": "code",
   "execution_count": null,
   "metadata": {},
   "outputs": [],
   "source": [
    "ids = browser.find_elements_by_id('video-title')\n",
    "for ii in ids:\n",
    "    print(ii.get_attribute('title'))"
   ]
  },
  {
   "cell_type": "code",
   "execution_count": 10,
   "metadata": {},
   "outputs": [
    {
     "name": "stdout",
     "output_type": "stream",
     "text": [
      "None\n",
      "None\n",
      "None\n",
      "https://www.youtube.com/watch?v=lWA2pjMjpBs\n",
      "https://www.youtube.com/watch?v=0RyInjfgNc4\n",
      "https://www.youtube.com/watch?v=tg00YEETFzg\n",
      "https://www.youtube.com/watch?v=sEhy-RXkNo0\n",
      "https://www.youtube.com/watch?v=JUuw1O-SRts\n",
      "https://www.youtube.com/watch?v=CvBfHwUxHIk\n",
      "https://www.youtube.com/watch?v=fyaI4-5849w\n",
      "None\n",
      "None\n",
      "None\n",
      "https://www.youtube.com/watch?v=HBxt_v0WF6Y\n",
      "https://www.youtube.com/watch?v=kOkQ4T5WO9E\n",
      "https://www.youtube.com/watch?v=yd8jh9QYfEs\n",
      "https://www.youtube.com/watch?v=e82VE8UtW8A\n",
      "https://www.youtube.com/watch?v=wfN4PVaOU5Q\n",
      "https://www.youtube.com/watch?v=uelHwf8o7_U\n",
      "https://www.youtube.com/watch?v=pa14VNsdSYM\n",
      "https://www.youtube.com/watch?v=U0CGsw6h60k\n",
      "https://www.youtube.com/watch?v=yXvyJDqqQec\n",
      "https://www.youtube.com/watch?v=o3mP3mJDL2k\n"
     ]
    }
   ],
   "source": [
    "ids = browser.find_elements_by_id('video-title')\n",
    "for ii in ids:\n",
    "    print(ii.get_attribute('href'))"
   ]
  },
  {
   "cell_type": "code",
   "execution_count": 2,
   "metadata": {},
   "outputs": [
    {
     "ename": "ModuleNotFoundError",
     "evalue": "No module named 'numpy'",
     "output_type": "error",
     "traceback": [
      "\u001b[1;31m---------------------------------------------------------------------------\u001b[0m",
      "\u001b[1;31mModuleNotFoundError\u001b[0m                       Traceback (most recent call last)",
      "\u001b[1;32m<ipython-input-2-d4cdadb62aa7>\u001b[0m in \u001b[0;36m<module>\u001b[1;34m\u001b[0m\n\u001b[1;32m----> 1\u001b[1;33m \u001b[1;32mimport\u001b[0m \u001b[0mnumpy\u001b[0m\u001b[1;33m\u001b[0m\u001b[1;33m\u001b[0m\u001b[0m\n\u001b[0m",
      "\u001b[1;31mModuleNotFoundError\u001b[0m: No module named 'numpy'"
     ]
    }
   ],
   "source": [
    "ids = browser.find_elements_by_class_name('video-title')\n",
    "titles = [x.text for x in ids]\n",
    "# print out all the titles.\n",
    "print('titles:')\n",
    "print(titles, '\\n')"
   ]
  }
 ],
 "metadata": {
  "kernelspec": {
   "display_name": "Python 3",
   "language": "python",
   "name": "python3"
  },
  "language_info": {
   "codemirror_mode": {
    "name": "ipython",
    "version": 3
   },
   "file_extension": ".py",
   "mimetype": "text/x-python",
   "name": "python",
   "nbconvert_exporter": "python",
   "pygments_lexer": "ipython3",
   "version": "3.7.4"
  }
 },
 "nbformat": 4,
 "nbformat_minor": 4
}
