{
 "cells": [
  {
   "cell_type": "code",
   "execution_count": 1,
   "metadata": {},
   "outputs": [],
   "source": [
    "from selenium import webdriver \n",
    "from selenium.webdriver.common.by import By \n",
    "from selenium.webdriver.support.ui import WebDriverWait \n",
    "from selenium.webdriver.support import expected_conditions as EC \n",
    "from selenium.common.exceptions import TimeoutException\n",
    "import pandas as pd\n",
    "import os\n",
    "import time"
   ]
  },
  {
   "cell_type": "code",
   "execution_count": 2,
   "metadata": {},
   "outputs": [
    {
     "data": {
      "text/plain": [
       "'D:\\\\SaturdaysAI\\\\project\\\\lyrics_scrapping'"
      ]
     },
     "execution_count": 2,
     "metadata": {},
     "output_type": "execute_result"
    }
   ],
   "source": [
    "os.getcwd()"
   ]
  },
  {
   "cell_type": "code",
   "execution_count": 3,
   "metadata": {},
   "outputs": [],
   "source": [
    "path= 'D:\\\\SaturdaysAI\\\\project\\\\'"
   ]
  },
  {
   "cell_type": "code",
   "execution_count": 4,
   "metadata": {},
   "outputs": [],
   "source": [
    "tracks= pd.read_csv(path+'tracks_S3.csv')"
   ]
  },
  {
   "cell_type": "code",
   "execution_count": 5,
   "metadata": {},
   "outputs": [
    {
     "name": "stdout",
     "output_type": "stream",
     "text": [
      "             track_id\n",
      "0  TRYNEZZ128F4265E59\n",
      "1  TRTBHNX128F4228728\n",
      "2  TRYKAUM128F9310193\n",
      "3  TRRAXOB128F1455956\n",
      "4  TRRNPYM128F426B336\n"
     ]
    }
   ],
   "source": [
    "print(tracks.head())"
   ]
  },
  {
   "cell_type": "code",
   "execution_count": 6,
   "metadata": {},
   "outputs": [
    {
     "name": "stderr",
     "output_type": "stream",
     "text": [
      "c:\\users\\marta\\.virtualenvs\\project-gaeps2at\\lib\\site-packages\\ipykernel_launcher.py:2: ParserWarning: Falling back to the 'python' engine because the 'c' engine does not support regex separators (separators > 1 char and different from '\\s+' are interpreted as regex); you can avoid this warning by specifying engine='python'.\n",
      "  \n"
     ]
    }
   ],
   "source": [
    "path= 'D:\\\\SaturdaysAI\\\\project\\\\data\\\\MSD\\\\'\n",
    "unique_tracks= pd.read_csv(path+'unique_tracks.txt', sep='<SEP>', header=None)"
   ]
  },
  {
   "cell_type": "code",
   "execution_count": 7,
   "metadata": {},
   "outputs": [],
   "source": [
    "unique_tracks.columns=['track_id', 'other', 'artist', 'title']\n",
    "del unique_tracks['other']"
   ]
  },
  {
   "cell_type": "code",
   "execution_count": 8,
   "metadata": {},
   "outputs": [],
   "source": [
    "tracks= pd.merge(tracks, unique_tracks, how='left')"
   ]
  },
  {
   "cell_type": "code",
   "execution_count": 9,
   "metadata": {},
   "outputs": [
    {
     "data": {
      "text/plain": [
       "169995"
      ]
     },
     "execution_count": 9,
     "metadata": {},
     "output_type": "execute_result"
    }
   ],
   "source": [
    "tracks=tracks.dropna()\n",
    "len(tracks)"
   ]
  },
  {
   "cell_type": "code",
   "execution_count": 10,
   "metadata": {},
   "outputs": [],
   "source": [
    "tracks= tracks[6648:]"
   ]
  },
  {
   "cell_type": "code",
   "execution_count": 11,
   "metadata": {},
   "outputs": [],
   "source": [
    "tracks1= tracks[6649:10000]\n",
    "tracks2= tracks[10000:15000]\n",
    "tracks3=tracks[15000:20000]\n",
    "tracks4=tracks[20000:25000]\n",
    "tracks5= tracks[25000:30000]"
   ]
  },
  {
   "cell_type": "code",
   "execution_count": 12,
   "metadata": {},
   "outputs": [],
   "source": [
    "browser = webdriver.Chrome(executable_path=\"D:\\\\SaturdaysAI\\\\project\\\\chromedriver.exe\")"
   ]
  },
  {
   "cell_type": "code",
   "execution_count": 13,
   "metadata": {},
   "outputs": [
    {
     "ename": "NameError",
     "evalue": "name 'prueba_borrar' is not defined",
     "output_type": "error",
     "traceback": [
      "\u001b[1;31m---------------------------------------------------------------------------\u001b[0m",
      "\u001b[1;31mNameError\u001b[0m                                 Traceback (most recent call last)",
      "\u001b[1;32m<ipython-input-13-ca0ba5a4c5cb>\u001b[0m in \u001b[0;36m<module>\u001b[1;34m\u001b[0m\n\u001b[1;32m----> 1\u001b[1;33m \u001b[0mround\u001b[0m\u001b[1;33m=\u001b[0m \u001b[1;33m[\u001b[0m\u001b[0mprueba_borrar\u001b[0m\u001b[1;33m,\u001b[0m\u001b[0mtracks1\u001b[0m\u001b[1;33m,\u001b[0m \u001b[0mtracks2\u001b[0m\u001b[1;33m,\u001b[0m \u001b[0mtracks3\u001b[0m\u001b[1;33m,\u001b[0m \u001b[0mtracks4\u001b[0m\u001b[1;33m,\u001b[0m \u001b[0mtracks5\u001b[0m\u001b[1;33m]\u001b[0m\u001b[1;33m\u001b[0m\u001b[1;33m\u001b[0m\u001b[0m\n\u001b[0m\u001b[0;32m      2\u001b[0m \u001b[0mname\u001b[0m\u001b[1;33m=\u001b[0m\u001b[1;33m[\u001b[0m\u001b[1;34m'tracks1'\u001b[0m\u001b[1;33m,\u001b[0m \u001b[1;34m'tracks2'\u001b[0m\u001b[1;33m,\u001b[0m \u001b[1;34m'tracks3'\u001b[0m\u001b[1;33m,\u001b[0m \u001b[1;34m'tracks4'\u001b[0m\u001b[1;33m,\u001b[0m \u001b[1;34m'tracks5'\u001b[0m\u001b[1;33m]\u001b[0m\u001b[1;33m\u001b[0m\u001b[1;33m\u001b[0m\u001b[0m\n\u001b[0;32m      3\u001b[0m \u001b[1;33m\u001b[0m\u001b[0m\n\u001b[0;32m      4\u001b[0m \u001b[1;32mfor\u001b[0m \u001b[0mi\u001b[0m\u001b[1;33m,\u001b[0m\u001b[0mj\u001b[0m \u001b[1;32min\u001b[0m \u001b[0mzip\u001b[0m\u001b[1;33m(\u001b[0m\u001b[0mround\u001b[0m\u001b[1;33m,\u001b[0m\u001b[0mname\u001b[0m\u001b[1;33m)\u001b[0m\u001b[1;33m:\u001b[0m\u001b[1;33m\u001b[0m\u001b[1;33m\u001b[0m\u001b[0m\n\u001b[0;32m      5\u001b[0m     \u001b[0msinger\u001b[0m\u001b[1;33m=\u001b[0m\u001b[0mi\u001b[0m\u001b[1;33m[\u001b[0m\u001b[1;34m'artist'\u001b[0m\u001b[1;33m]\u001b[0m\u001b[1;33m\u001b[0m\u001b[1;33m\u001b[0m\u001b[0m\n",
      "\u001b[1;31mNameError\u001b[0m: name 'prueba_borrar' is not defined"
     ]
    }
   ],
   "source": [
    "round= [tracks1, tracks2, tracks3, tracks4, tracks5]\n",
    "name=['tracks1', 'tracks2', 'tracks3', 'tracks4', 'tracks5']\n",
    "\n",
    "for i,j in zip(round,name):\n",
    "    singer=i['artist']\n",
    "    title= i['title']\n",
    "    \n",
    "    all_lyrics=[]\n",
    "    all_ids=[]\n",
    "\n",
    "    for t, s in zip(title, singer):\n",
    "        lyrics=[]\n",
    "        browser.get(f\"https://www.google.com/search?q={t}+{s}+lyrics&sourceid=chrome&ie=UTF-8\")\n",
    "        ids = browser.find_elements_by_class_name(\"i4J0ge\")\n",
    "        lyric = [x.text for x in ids]\n",
    "        lyrics.append(lyric)\n",
    "        all_ids.append(t+'+'+s)\n",
    "        all_lyrics.append(lyrics)\n",
    "        time.sleep(1)\n",
    "\n",
    "    all_lyrics=pd.DataFrame(all_lyrics).reset_index(drop=True)\n",
    "    all_ids=pd.DataFrame(all_ids).reset_index(drop=True)\n",
    "    all_lyrics_df=all_lyrics.merge(all_ids, left_index=True, right_index=True)\n",
    "    all_lyrics_df.to_csv(f'{j}.csv')"
   ]
  },
  {
   "cell_type": "code",
   "execution_count": null,
   "metadata": {},
   "outputs": [],
   "source": []
  },
  {
   "cell_type": "code",
   "execution_count": null,
   "metadata": {},
   "outputs": [],
   "source": []
  }
 ],
 "metadata": {
  "kernelspec": {
   "display_name": "Python 3",
   "language": "python",
   "name": "python3"
  },
  "language_info": {
   "codemirror_mode": {
    "name": "ipython",
    "version": 3
   },
   "file_extension": ".py",
   "mimetype": "text/x-python",
   "name": "python",
   "nbconvert_exporter": "python",
   "pygments_lexer": "ipython3",
   "version": "3.7.4"
  }
 },
 "nbformat": 4,
 "nbformat_minor": 2
}
