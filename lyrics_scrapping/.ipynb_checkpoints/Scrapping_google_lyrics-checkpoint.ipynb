{
 "cells": [
  {
   "cell_type": "code",
   "execution_count": 15,
   "metadata": {},
   "outputs": [],
   "source": [
    "from selenium import webdriver \n",
    "from selenium.webdriver.common.by import By \n",
    "from selenium.webdriver.support.ui import WebDriverWait \n",
    "from selenium.webdriver.support import expected_conditions as EC \n",
    "from selenium.common.exceptions import TimeoutException\n",
    "import pandas as pd\n",
    "import os\n",
    "import time"
   ]
  },
  {
   "cell_type": "code",
   "execution_count": 16,
   "metadata": {},
   "outputs": [
    {
     "data": {
      "text/plain": [
       "'D:\\\\SaturdaysAI\\\\project\\\\lyrics_scrapping'"
      ]
     },
     "execution_count": 16,
     "metadata": {},
     "output_type": "execute_result"
    }
   ],
   "source": [
    "os.getcwd()"
   ]
  },
  {
   "cell_type": "code",
   "execution_count": 17,
   "metadata": {},
   "outputs": [],
   "source": [
    "path= 'D:\\\\SaturdaysAI\\\\project\\\\'"
   ]
  },
  {
   "cell_type": "code",
   "execution_count": 18,
   "metadata": {},
   "outputs": [],
   "source": [
    "tracks= pd.read_csv(path+'tracks_S3.csv')"
   ]
  },
  {
   "cell_type": "code",
   "execution_count": 19,
   "metadata": {},
   "outputs": [
    {
     "name": "stdout",
     "output_type": "stream",
     "text": [
      "             track_id\n",
      "0  TRYNEZZ128F4265E59\n",
      "1  TRTBHNX128F4228728\n",
      "2  TRYKAUM128F9310193\n",
      "3  TRRAXOB128F1455956\n",
      "4  TRRNPYM128F426B336\n"
     ]
    }
   ],
   "source": [
    "print(tracks.head())"
   ]
  },
  {
   "cell_type": "code",
   "execution_count": 45,
   "metadata": {},
   "outputs": [],
   "source": [
    "path= 'D:\\\\SaturdaysAI\\\\project\\\\data\\\\MSD\\\\'\n",
    "unique_tracks= pd.read_csv(path+'unique_tracks.txt', header=None)\n",
    "unique_tracks.columns=['all']"
   ]
  },
  {
   "cell_type": "code",
   "execution_count": 52,
   "metadata": {},
   "outputs": [
    {
     "data": {
      "text/html": [
       "<div>\n",
       "<style scoped>\n",
       "    .dataframe tbody tr th:only-of-type {\n",
       "        vertical-align: middle;\n",
       "    }\n",
       "\n",
       "    .dataframe tbody tr th {\n",
       "        vertical-align: top;\n",
       "    }\n",
       "\n",
       "    .dataframe thead th {\n",
       "        text-align: right;\n",
       "    }\n",
       "</style>\n",
       "<table border=\"1\" class=\"dataframe\">\n",
       "  <thead>\n",
       "    <tr style=\"text-align: right;\">\n",
       "      <th></th>\n",
       "      <th>0</th>\n",
       "      <th>1</th>\n",
       "      <th>2</th>\n",
       "      <th>3</th>\n",
       "      <th>4</th>\n",
       "      <th>5</th>\n",
       "      <th>6</th>\n",
       "      <th>7</th>\n",
       "      <th>8</th>\n",
       "      <th>9</th>\n",
       "      <th>...</th>\n",
       "      <th>21</th>\n",
       "      <th>22</th>\n",
       "      <th>23</th>\n",
       "      <th>24</th>\n",
       "      <th>25</th>\n",
       "      <th>26</th>\n",
       "      <th>27</th>\n",
       "      <th>28</th>\n",
       "      <th>29</th>\n",
       "      <th>30</th>\n",
       "    </tr>\n",
       "  </thead>\n",
       "  <tbody>\n",
       "    <tr>\n",
       "      <th>0</th>\n",
       "      <td>TRMMMYQ128F932D901</td>\n",
       "      <td>SOQMMHC12AB0180CB8</td>\n",
       "      <td>Faster Pussy cat</td>\n",
       "      <td>Silent Night</td>\n",
       "      <td>None</td>\n",
       "      <td>None</td>\n",
       "      <td>None</td>\n",
       "      <td>None</td>\n",
       "      <td>None</td>\n",
       "      <td>None</td>\n",
       "      <td>...</td>\n",
       "      <td>None</td>\n",
       "      <td>None</td>\n",
       "      <td>None</td>\n",
       "      <td>None</td>\n",
       "      <td>None</td>\n",
       "      <td>None</td>\n",
       "      <td>None</td>\n",
       "      <td>None</td>\n",
       "      <td>None</td>\n",
       "      <td>None</td>\n",
       "    </tr>\n",
       "    <tr>\n",
       "      <th>1</th>\n",
       "      <td>TRMMMKD128F425225D</td>\n",
       "      <td>SOVFVAK12A8C1350D9</td>\n",
       "      <td>Karkkiautomaatti</td>\n",
       "      <td>Tanssi vaan</td>\n",
       "      <td>None</td>\n",
       "      <td>None</td>\n",
       "      <td>None</td>\n",
       "      <td>None</td>\n",
       "      <td>None</td>\n",
       "      <td>None</td>\n",
       "      <td>...</td>\n",
       "      <td>None</td>\n",
       "      <td>None</td>\n",
       "      <td>None</td>\n",
       "      <td>None</td>\n",
       "      <td>None</td>\n",
       "      <td>None</td>\n",
       "      <td>None</td>\n",
       "      <td>None</td>\n",
       "      <td>None</td>\n",
       "      <td>None</td>\n",
       "    </tr>\n",
       "    <tr>\n",
       "      <th>2</th>\n",
       "      <td>TRMMMRX128F93187D9</td>\n",
       "      <td>SOGTUKN12AB017F4F1</td>\n",
       "      <td>Hudson Mohawke</td>\n",
       "      <td>No One Could Ever</td>\n",
       "      <td>None</td>\n",
       "      <td>None</td>\n",
       "      <td>None</td>\n",
       "      <td>None</td>\n",
       "      <td>None</td>\n",
       "      <td>None</td>\n",
       "      <td>...</td>\n",
       "      <td>None</td>\n",
       "      <td>None</td>\n",
       "      <td>None</td>\n",
       "      <td>None</td>\n",
       "      <td>None</td>\n",
       "      <td>None</td>\n",
       "      <td>None</td>\n",
       "      <td>None</td>\n",
       "      <td>None</td>\n",
       "      <td>None</td>\n",
       "    </tr>\n",
       "    <tr>\n",
       "      <th>3</th>\n",
       "      <td>TRMMMCH128F425532C</td>\n",
       "      <td>SOBNYVR12A8C13558C</td>\n",
       "      <td>Yerba Brava</td>\n",
       "      <td>Si Vos Querés</td>\n",
       "      <td>None</td>\n",
       "      <td>None</td>\n",
       "      <td>None</td>\n",
       "      <td>None</td>\n",
       "      <td>None</td>\n",
       "      <td>None</td>\n",
       "      <td>...</td>\n",
       "      <td>None</td>\n",
       "      <td>None</td>\n",
       "      <td>None</td>\n",
       "      <td>None</td>\n",
       "      <td>None</td>\n",
       "      <td>None</td>\n",
       "      <td>None</td>\n",
       "      <td>None</td>\n",
       "      <td>None</td>\n",
       "      <td>None</td>\n",
       "    </tr>\n",
       "  </tbody>\n",
       "</table>\n",
       "<p>4 rows × 31 columns</p>\n",
       "</div>"
      ],
      "text/plain": [
       "                   0                   1                 2   \\\n",
       "0  TRMMMYQ128F932D901  SOQMMHC12AB0180CB8  Faster Pussy cat   \n",
       "1  TRMMMKD128F425225D  SOVFVAK12A8C1350D9  Karkkiautomaatti   \n",
       "2  TRMMMRX128F93187D9  SOGTUKN12AB017F4F1    Hudson Mohawke   \n",
       "3  TRMMMCH128F425532C  SOBNYVR12A8C13558C       Yerba Brava   \n",
       "\n",
       "                  3     4     5     6     7     8     9   ...    21    22  \\\n",
       "0       Silent Night  None  None  None  None  None  None  ...  None  None   \n",
       "1        Tanssi vaan  None  None  None  None  None  None  ...  None  None   \n",
       "2  No One Could Ever  None  None  None  None  None  None  ...  None  None   \n",
       "3      Si Vos Querés  None  None  None  None  None  None  ...  None  None   \n",
       "\n",
       "     23    24    25    26    27    28    29    30  \n",
       "0  None  None  None  None  None  None  None  None  \n",
       "1  None  None  None  None  None  None  None  None  \n",
       "2  None  None  None  None  None  None  None  None  \n",
       "3  None  None  None  None  None  None  None  None  \n",
       "\n",
       "[4 rows x 31 columns]"
      ]
     },
     "execution_count": 52,
     "metadata": {},
     "output_type": "execute_result"
    }
   ],
   "source": [
    "unique_tracks= unique_tracks['all'].str.split(';',expand=True)\n",
    "unique_tracks=unique_tracks.iloc[:,0:4]"
   ]
  },
  {
   "cell_type": "code",
   "execution_count": 60,
   "metadata": {},
   "outputs": [],
   "source": [
    "unique_tracks.columns=['track_id', 'other', 'artist', 'title']\n",
    "del unique_tracks['other']"
   ]
  },
  {
   "cell_type": "code",
   "execution_count": 61,
   "metadata": {},
   "outputs": [],
   "source": [
    "tracks= pd.merge(tracks, unique_tracks, how='left')"
   ]
  },
  {
   "cell_type": "code",
   "execution_count": 62,
   "metadata": {},
   "outputs": [
    {
     "data": {
      "text/plain": [
       "170004"
      ]
     },
     "execution_count": 62,
     "metadata": {},
     "output_type": "execute_result"
    }
   ],
   "source": [
    "tracks=tracks.dropna()\n",
    "len(tracks)"
   ]
  },
  {
   "cell_type": "code",
   "execution_count": 63,
   "metadata": {},
   "outputs": [],
   "source": [
    "tracks= tracks[36652:]"
   ]
  },
  {
   "cell_type": "code",
   "execution_count": 64,
   "metadata": {},
   "outputs": [
    {
     "data": {
      "text/html": [
       "<div>\n",
       "<style scoped>\n",
       "    .dataframe tbody tr th:only-of-type {\n",
       "        vertical-align: middle;\n",
       "    }\n",
       "\n",
       "    .dataframe tbody tr th {\n",
       "        vertical-align: top;\n",
       "    }\n",
       "\n",
       "    .dataframe thead th {\n",
       "        text-align: right;\n",
       "    }\n",
       "</style>\n",
       "<table border=\"1\" class=\"dataframe\">\n",
       "  <thead>\n",
       "    <tr style=\"text-align: right;\">\n",
       "      <th></th>\n",
       "      <th>track_id</th>\n",
       "      <th>artist</th>\n",
       "      <th>title</th>\n",
       "    </tr>\n",
       "  </thead>\n",
       "  <tbody>\n",
       "    <tr>\n",
       "      <th>36652</th>\n",
       "      <td>TRXXSQZ128F423A7B2</td>\n",
       "      <td>Holy Soldier</td>\n",
       "      <td>Cry Out For Love (Album Version)</td>\n",
       "    </tr>\n",
       "    <tr>\n",
       "      <th>36653</th>\n",
       "      <td>TRSPUAA128F9315526</td>\n",
       "      <td>S.O.A.P.</td>\n",
       "      <td>Good To Me</td>\n",
       "    </tr>\n",
       "    <tr>\n",
       "      <th>36654</th>\n",
       "      <td>TROJPYW128F92E564A</td>\n",
       "      <td>Pete Escovedo</td>\n",
       "      <td>Como Rien</td>\n",
       "    </tr>\n",
       "    <tr>\n",
       "      <th>36655</th>\n",
       "      <td>TRNIZIO128F92DD360</td>\n",
       "      <td>Deacon Blue</td>\n",
       "      <td>Only Tender Love</td>\n",
       "    </tr>\n",
       "    <tr>\n",
       "      <th>36656</th>\n",
       "      <td>TRYTQTV128F92FE091</td>\n",
       "      <td>Kim Richey</td>\n",
       "      <td>Something To Say</td>\n",
       "    </tr>\n",
       "    <tr>\n",
       "      <th>...</th>\n",
       "      <td>...</td>\n",
       "      <td>...</td>\n",
       "      <td>...</td>\n",
       "    </tr>\n",
       "    <tr>\n",
       "      <th>169999</th>\n",
       "      <td>TRUVRRT128F92FAA3D</td>\n",
       "      <td>Los Caminantes</td>\n",
       "      <td>El Ausente</td>\n",
       "    </tr>\n",
       "    <tr>\n",
       "      <th>170000</th>\n",
       "      <td>TRYFTHV12903CEC8E8</td>\n",
       "      <td>Eyehategod</td>\n",
       "      <td>Dixie Whiskey</td>\n",
       "    </tr>\n",
       "    <tr>\n",
       "      <th>170001</th>\n",
       "      <td>TRRGWCZ12903CDCAC6</td>\n",
       "      <td>Ella Jenkins</td>\n",
       "      <td>A Rabbit with a Flea</td>\n",
       "    </tr>\n",
       "    <tr>\n",
       "      <th>170002</th>\n",
       "      <td>TRGDHWT128F9344A68</td>\n",
       "      <td>Leningrad Cowboys</td>\n",
       "      <td>Kasakka</td>\n",
       "    </tr>\n",
       "    <tr>\n",
       "      <th>170003</th>\n",
       "      <td>TRUGKKB128F1473B0B</td>\n",
       "      <td>Phil Ochs</td>\n",
       "      <td>Talking Cuban Crisis (LP Version)</td>\n",
       "    </tr>\n",
       "  </tbody>\n",
       "</table>\n",
       "<p>133352 rows × 3 columns</p>\n",
       "</div>"
      ],
      "text/plain": [
       "                  track_id             artist  \\\n",
       "36652   TRXXSQZ128F423A7B2       Holy Soldier   \n",
       "36653   TRSPUAA128F9315526           S.O.A.P.   \n",
       "36654   TROJPYW128F92E564A      Pete Escovedo   \n",
       "36655   TRNIZIO128F92DD360        Deacon Blue   \n",
       "36656   TRYTQTV128F92FE091         Kim Richey   \n",
       "...                    ...                ...   \n",
       "169999  TRUVRRT128F92FAA3D     Los Caminantes   \n",
       "170000  TRYFTHV12903CEC8E8         Eyehategod   \n",
       "170001  TRRGWCZ12903CDCAC6       Ella Jenkins   \n",
       "170002  TRGDHWT128F9344A68  Leningrad Cowboys   \n",
       "170003  TRUGKKB128F1473B0B          Phil Ochs   \n",
       "\n",
       "                                    title  \n",
       "36652    Cry Out For Love (Album Version)  \n",
       "36653                          Good To Me  \n",
       "36654                           Como Rien  \n",
       "36655                    Only Tender Love  \n",
       "36656                    Something To Say  \n",
       "...                                   ...  \n",
       "169999                         El Ausente  \n",
       "170000                      Dixie Whiskey  \n",
       "170001               A Rabbit with a Flea  \n",
       "170002                            Kasakka  \n",
       "170003  Talking Cuban Crisis (LP Version)  \n",
       "\n",
       "[133352 rows x 3 columns]"
      ]
     },
     "execution_count": 64,
     "metadata": {},
     "output_type": "execute_result"
    }
   ],
   "source": []
  },
  {
   "cell_type": "code",
   "execution_count": 65,
   "metadata": {},
   "outputs": [],
   "source": [
    "tracks6= tracks[36652:40000]\n",
    "tracks7= tracks[40000:50000]\n",
    "tracks8= tracks[50000:60000]\n",
    "tracks9=tracks[60000:70000]\n",
    "tracks10=tracks[70000:80000]\n",
    "tracks11= tracks[90000:100000]"
   ]
  },
  {
   "cell_type": "code",
   "execution_count": 67,
   "metadata": {},
   "outputs": [],
   "source": [
    "browser = webdriver.Chrome(executable_path=\"D:\\\\SaturdaysAI\\\\project\\\\chromedriver.exe\")"
   ]
  },
  {
   "cell_type": "code",
   "execution_count": null,
   "metadata": {},
   "outputs": [],
   "source": [
    "round= [tracks6, tracks7, tracks8, tracks9, tracks10, tracks11]\n",
    "name=['tracks6','tracks7', 'tracks8', 'tracks9', 'tracks10', 'tracks11']\n",
    "\n",
    "for i,j in zip(round,name):\n",
    "    singer=i['artist']\n",
    "    title= i['title']\n",
    "    \n",
    "    all_lyrics=[]\n",
    "    all_ids=[]\n",
    "\n",
    "    for t, s in zip(title, singer):\n",
    "        lyrics=[]\n",
    "        browser.get(f\"https://www.google.com/search?q={t}+{s}+lyrics&sourceid=chrome&ie=UTF-8\")\n",
    "        ids = browser.find_elements_by_class_name(\"i4J0ge\")\n",
    "        lyric = [x.text for x in ids]\n",
    "        lyrics.append(lyric)\n",
    "        all_ids.append(t+'+'+s)\n",
    "        all_lyrics.append(lyrics)\n",
    "        time.sleep(10)\n",
    "\n",
    "    all_lyrics=pd.DataFrame(all_lyrics).reset_index(drop=True)\n",
    "    all_ids=pd.DataFrame(all_ids).reset_index(drop=True)\n",
    "    all_lyrics_df=all_lyrics.merge(all_ids, left_index=True, right_index=True)\n",
    "    all_lyrics_df.to_csv(f'{j}.csv')"
   ]
  },
  {
   "cell_type": "code",
   "execution_count": null,
   "metadata": {},
   "outputs": [],
   "source": []
  }
 ],
 "metadata": {
  "kernelspec": {
   "display_name": "Python 3",
   "language": "python",
   "name": "python3"
  },
  "language_info": {
   "codemirror_mode": {
    "name": "ipython",
    "version": 3
   },
   "file_extension": ".py",
   "mimetype": "text/x-python",
   "name": "python",
   "nbconvert_exporter": "python",
   "pygments_lexer": "ipython3",
   "version": "3.7.4"
  }
 },
 "nbformat": 4,
 "nbformat_minor": 2
}
