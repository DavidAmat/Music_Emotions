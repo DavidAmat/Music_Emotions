{
 "cells": [
  {
   "cell_type": "code",
   "execution_count": 10,
   "metadata": {},
   "outputs": [],
   "source": [
    "# Database\n",
    "import pandas as pd\n",
    "import sys\n",
    "import os\n",
    "import time\n",
    "import numpy as np\n",
    "import datetime\n",
    "\n",
    "# Logging\n",
    "from v_log import VLogger\n",
    "import logging\n",
    "import tqdm\n",
    "\n",
    "#S3 interaction\n",
    "from io import StringIO \n",
    "import boto3\n",
    "import json  # to process the outputs of AWS CLI\n",
    "import subprocess\n",
    "import re"
   ]
  },
  {
   "cell_type": "code",
   "execution_count": 11,
   "metadata": {},
   "outputs": [],
   "source": [
    "# Create SQS client\n",
    "sqs = boto3.client('sqs')\n",
    "queue_url_batch = \"https://sqs.eu-west-1.amazonaws.com/555381533193/get_batch.fifo\"\n",
    "#queue_url_status = \"https://sqs.eu-west-1.amazonaws.com/555381533193/status.fifo\"\n",
    "queue_url_stat = \"https://sqs.eu-west-1.amazonaws.com/555381533193/stat\""
   ]
  },
  {
   "cell_type": "markdown",
   "metadata": {},
   "source": [
    "# Formats\n",
    "\n",
    "\n",
    "## get_batch\n",
    "\n",
    "- Start running the send_initial_batchs function in the loop in Section 1 to generate all the pairs batch:iter_ini. This will tell the instance to pick that batch and start from iter_ini. For this initial procedure, we will start obviously from iter = 0.\n",
    "\n",
    "- Imagine that an EC2 instance has stopped at iteration 100 at batch 4, then we want to remove the 4:100 message and send a new message with 4:100. This is the Section 2. Send a new batch iteration and remove previous message\n",
    "\n",
    "## status\n",
    "\n",
    "- To monitor the status of each instance and see if it is currently handling a batch or not, instead of going inside each instance by SSH we will do a queue that will keep the latest state of the instance. The format will be (imagine the instance name is NODE1 and it has accepted a message in get_batch named 4:100, batch 4 iteration to start 100). Then the format will be: NODE1:ON:4:10"
   ]
  },
  {
   "cell_type": "markdown",
   "metadata": {},
   "source": [
    "# Section 1. Create queue of batch messages"
   ]
  },
  {
   "cell_type": "code",
   "execution_count": 12,
   "metadata": {},
   "outputs": [],
   "source": [
    "def send_initial_batchs(batch_num, iter_ini):\n",
    "    \"\"\"Send message to SQS queue: get_batch.fifo\"\"\"\n",
    "    response = sqs.send_message(\n",
    "        QueueUrl=queue_url_batch,\n",
    "        DelaySeconds=0,\n",
    "        MessageAttributes={},\n",
    "        MessageBody=(f\"{batch_num}:{iter_ini}\"),\n",
    "        MessageDeduplicationId=f'{batch_num},{iter_ini}',\n",
    "        MessageGroupId = \"batch_initial\"\n",
    "    )"
   ]
  },
  {
   "cell_type": "code",
   "execution_count": 13,
   "metadata": {},
   "outputs": [
    {
     "name": "stderr",
     "output_type": "stream",
     "text": [
      "100%|██████████████████████████████████████████████████████████████████████████████████| 36/36 [00:02<00:00, 15.96it/s]\n"
     ]
    }
   ],
   "source": [
    "iter_ini = 0\n",
    "for batch_num in tqdm.tqdm(range(0,36)):\n",
    "    if batch_num == 0:\n",
    "        send_initial_batchs(batch_num, 9558)\n",
    "    elif batch_num == 1:\n",
    "        send_initial_batchs(batch_num, 3774)\n",
    "    else:\n",
    "        send_initial_batchs(batch_num, iter_ini)"
   ]
  },
  {
   "cell_type": "markdown",
   "metadata": {},
   "source": [
    "## 1.2 Receive the message and remove it from the queue"
   ]
  },
  {
   "cell_type": "code",
   "execution_count": 9,
   "metadata": {},
   "outputs": [],
   "source": [
    "def sqs_get_batch_iter_from_message(response):\n",
    "    \"\"\"Parses the response as json to output the batch and iter numbers from message\"\"\"\n",
    "    sqs_batch, sqs_iter = response[\"Messages\"][0][\"Body\"].split(\":\")\n",
    "    sqs_batch = int(sqs_batch)\n",
    "    sqs_iter = int(sqs_iter)\n",
    "    return sqs_batch, sqs_iter\n",
    "\n",
    "def receive_message_sqs_batch_iter():\n",
    "    \"\"\"Receive message from SQS queue: get_batch.fifo\n",
    "    IMPORTANT! VisibilitTImeout: https://github.com/aws/aws-sdk-js/issues/1279\n",
    "    \"\"\"\n",
    "    response = sqs.receive_message(\n",
    "        QueueUrl=queue_url_batch,\n",
    "        MaxNumberOfMessages=1,\n",
    "        MessageAttributeNames=[\n",
    "            'All'\n",
    "        ],\n",
    "        VisibilityTimeout=10, # important!!! \n",
    "        WaitTimeSeconds=0\n",
    "    )\n",
    "    return response\n",
    "\n",
    "def get_id_message(response):\n",
    "    \"\"\"From the response of SQS, it parses the identifier (receiptHandler) of the message\"\"\"\n",
    "    return response[\"Messages\"][0]['ReceiptHandle']\n",
    "\n",
    "def delete_message(id_message):\n",
    "    \"\"\"Deletes the message, it should be under the visibility timeout interval this command,\n",
    "    otherwise the message will be re-send to the queue\"\"\"\n",
    "    sqs.delete_message(\n",
    "    QueueUrl=queue_url_batch,\n",
    "    ReceiptHandle=id_message\n",
    "    )\n",
    "    return"
   ]
  },
  {
   "cell_type": "code",
   "execution_count": 10,
   "metadata": {},
   "outputs": [],
   "source": [
    "# # Receive a message\n",
    "# resp = receive_message_sqs_batch_iter()\n",
    "\n",
    "# # If no message is present in the queue, finish the code\n",
    "# if \"Messages\" not in resp:\n",
    "#     #sys.exit(\"No more messages to process\")\n",
    "#     print(\"No more messages to process\")\n",
    "# else:\n",
    "#     # Parse it to obtain batch and number of iteration\n",
    "#     # Add to the log file which batch num and num iter has received\n",
    "#     batch_num, num_iter = sqs_get_batch_iter_from_message(resp)\n",
    "\n",
    "#     #Get the identifier of that message to delete it\n",
    "#     id_message = get_id_message(resp)\n",
    "\n",
    "#     # Delete it\n",
    "#     delete_message(id_message)"
   ]
  },
  {
   "cell_type": "code",
   "execution_count": 30,
   "metadata": {},
   "outputs": [],
   "source": [
    "def read_message_and_delete():\n",
    "    # Receive a message\n",
    "    resp = receive_message_sqs_batch_iter()\n",
    "\n",
    "    # If no message is present in the queue, finish the code\n",
    "    if \"Messages\" not in resp:\n",
    "        #sys.exit(\"No more messages to process\")\n",
    "        print(\"No more messages to process\")\n",
    "    else:\n",
    "        # Parse it to obtain batch and number of iteration\n",
    "        # Add to the log file which batch num and num iter has received\n",
    "        batch_num, num_iter = sqs_get_batch_iter_from_message(resp)\n",
    "\n",
    "        #Get the identifier of that message to delete it\n",
    "        id_message = get_id_message(resp)\n",
    "\n",
    "        # Delete it\n",
    "        delete_message(id_message)\n",
    "    return batch_num, num_iter"
   ]
  },
  {
   "cell_type": "code",
   "execution_count": 35,
   "metadata": {},
   "outputs": [
    {
     "data": {
      "text/plain": [
       "4"
      ]
     },
     "execution_count": 35,
     "metadata": {},
     "output_type": "execute_result"
    }
   ],
   "source": [
    "batch_num, num_iter = read_message_and_delete()\n",
    "batch_num"
   ]
  },
  {
   "cell_type": "code",
   "execution_count": 23,
   "metadata": {},
   "outputs": [
    {
     "data": {
      "text/plain": [
       "4"
      ]
     },
     "execution_count": 23,
     "metadata": {},
     "output_type": "execute_result"
    }
   ],
   "source": []
  },
  {
   "cell_type": "markdown",
   "metadata": {},
   "source": [
    "# Section 2. Send a new batch -  iteration "
   ]
  },
  {
   "cell_type": "code",
   "execution_count": 36,
   "metadata": {},
   "outputs": [],
   "source": [
    "def send_batch_iter(batch_num, counter_iteration):\n",
    "    \"\"\"Send message to SQS queue: get_batch.fifo\n",
    "    Specifying at which batch_num and iteration it has arrived\n",
    "    \"\"\"\n",
    "    response = sqs.send_message(\n",
    "        QueueUrl=queue_url_batch,\n",
    "        DelaySeconds=0,\n",
    "        MessageAttributes={},\n",
    "        MessageBody=(f\"{batch_num}:{counter_iteration}\"),\n",
    "        MessageDeduplicationId=f'{batch_num},{counter_iteration}',\n",
    "        MessageGroupId = \"batch\"\n",
    "    )"
   ]
  },
  {
   "cell_type": "code",
   "execution_count": 37,
   "metadata": {},
   "outputs": [],
   "source": [
    "# imagine I was blocked at batch_num = 0 at counter_iteration = 1000\n",
    "batch_num = 0\n",
    "counter_iteration = 1000\n",
    "\n",
    "send_batch_iter(batch_num, counter_iteration)"
   ]
  },
  {
   "cell_type": "code",
   "execution_count": null,
   "metadata": {},
   "outputs": [],
   "source": []
  },
  {
   "cell_type": "markdown",
   "metadata": {},
   "source": [
    "# Section 3: Status of the Instance"
   ]
  },
  {
   "cell_type": "markdown",
   "metadata": {},
   "source": [
    "## 3.1 Send the status"
   ]
  },
  {
   "cell_type": "code",
   "execution_count": null,
   "metadata": {},
   "outputs": [],
   "source": [
    "def get_now():\n",
    "    now = datetime.datetime.now()\n",
    "    dt_string = now.strftime(\"%Y-%m-%d %H:%M:%S\")\n",
    "    return dt_string"
   ]
  },
  {
   "cell_type": "code",
   "execution_count": 41,
   "metadata": {},
   "outputs": [],
   "source": [
    "def get_current_instance_id():\n",
    "    try:\n",
    "        desc_inst = subprocess.check_output('ec2-metadata -i', shell = True)\n",
    "        return desc_inst.strip().split(\": \")[1]\n",
    "    except:\n",
    "        return False"
   ]
  },
  {
   "cell_type": "code",
   "execution_count": 42,
   "metadata": {},
   "outputs": [],
   "source": [
    "#instance_id =  get_current_instance_id() # if you are on a EC2 instance\n",
    "# desc_inst = 'instance-id: i-0045263fc6ad11a3c\\n'\n",
    "# instance_id = desc_inst.strip().split(\": \")[1]"
   ]
  },
  {
   "cell_type": "code",
   "execution_count": 43,
   "metadata": {},
   "outputs": [],
   "source": [
    "def get_current_instance_name():\n",
    "    instance_id =  get_current_instance_id()\n",
    "    if instance_id is False:\n",
    "        return False\n",
    "    comando = f'aws ec2 describe-tags --filters \"Name=resource-id,Values={instance_id}\"'\n",
    "    try:\n",
    "        get_instance_name = subprocess.check_output(comando, shell = True)\n",
    "        get_instance_name_json = json.loads(get_instance_name)\n",
    "        instance_name = get_instance_name_json[\"Tags\"][0][\"Value\"]\n",
    "        return instance_name\n",
    "    except:\n",
    "        return False"
   ]
  },
  {
   "cell_type": "code",
   "execution_count": 44,
   "metadata": {},
   "outputs": [],
   "source": [
    "instance_name = get_current_instance_name()"
   ]
  },
  {
   "cell_type": "code",
   "execution_count": 45,
   "metadata": {},
   "outputs": [],
   "source": [
    "def send_status(instance_name, status, batch_num, counter_iteration):\n",
    "    \"\"\"Send message to SQS queue: status.fifo\n",
    "    instance_name: tagged name of the instance \n",
    "    status: if the instance has just taken that message, put status = \"ON\"\n",
    "    batch_num: batch num that is actually processing (ON) / has processed (OFF) that instance\n",
    "    counter_iteration: ON: iteration starting at / OFF: iteration that has ended\n",
    "    \"\"\"\n",
    "    date_today = get_now()\n",
    "    message_body = f'{instance_name}:{status}:{batch_num}:{counter_iteration}:{date_today}'\n",
    "    response = sqs.send_message(\n",
    "        QueueUrl=queue_url_stat,\n",
    "        DelaySeconds=0,\n",
    "        MessageAttributes={},\n",
    "        MessageBody=(message_body)\n",
    "    )"
   ]
  },
  {
   "cell_type": "code",
   "execution_count": 46,
   "metadata": {},
   "outputs": [],
   "source": [
    "instance_name = \"nodo0\";\n",
    "status = \"OFF\"\n",
    "batch_num = 23\n",
    "counter_iteration = 169"
   ]
  },
  {
   "cell_type": "code",
   "execution_count": 47,
   "metadata": {},
   "outputs": [],
   "source": [
    "resp_status = send_status(instance_name, status, batch_num, counter_iteration)"
   ]
  },
  {
   "cell_type": "markdown",
   "metadata": {},
   "source": [
    "## 3.2 Monitor status"
   ]
  },
  {
   "cell_type": "code",
   "execution_count": 6,
   "metadata": {},
   "outputs": [],
   "source": []
  },
  {
   "cell_type": "code",
   "execution_count": 49,
   "metadata": {},
   "outputs": [],
   "source": [
    "def receive_status():\n",
    "    \"\"\"Receive message from SQS queue: status.fifo\n",
    "    Checks ALL the messages\n",
    "    \"\"\"\n",
    "    \n",
    "    response = sqs.receive_message(\n",
    "        QueueUrl=queue_url_stat,\n",
    "        MaxNumberOfMessages=1,\n",
    "        MessageAttributeNames=[\n",
    "            'All'\n",
    "        ],\n",
    "        VisibilityTimeout=10,\n",
    "        WaitTimeSeconds=0\n",
    "    )\n",
    "    return response"
   ]
  },
  {
   "cell_type": "code",
   "execution_count": 50,
   "metadata": {},
   "outputs": [],
   "source": [
    "def receive_all_status():\n",
    "    set_messages = set()\n",
    "    counter = 0\n",
    "    while counter < 1000:\n",
    "        counter += 1\n",
    "        all_status = receive_status()\n",
    "        try:\n",
    "            set_messages.add(all_status[\"Messages\"][0][\"Body\"])\n",
    "        except KeyError:\n",
    "            print(\"Finished!\")\n",
    "            break\n",
    "    return set_messages"
   ]
  },
  {
   "cell_type": "code",
   "execution_count": 51,
   "metadata": {},
   "outputs": [
    {
     "name": "stdout",
     "output_type": "stream",
     "text": [
      "Finished!\n"
     ]
    }
   ],
   "source": [
    "set_messages = receive_all_status()"
   ]
  },
  {
   "cell_type": "code",
   "execution_count": 52,
   "metadata": {},
   "outputs": [
    {
     "data": {
      "text/plain": [
       "{'nodo0:OFF:19:169:2020-04-18',\n",
       " 'nodo0:OFF:23:169:2020-04-18',\n",
       " 'nodo1:OFF:19:169',\n",
       " 'nodo2:OFF:19:169',\n",
       " 'nodo3:OFF:19:169',\n",
       " 'nodo4:OFF:19:169',\n",
       " 'nodo5:OFF:19:169'}"
      ]
     },
     "execution_count": 52,
     "metadata": {},
     "output_type": "execute_result"
    }
   ],
   "source": [
    "set_messages"
   ]
  },
  {
   "cell_type": "code",
   "execution_count": 266,
   "metadata": {},
   "outputs": [
    {
     "data": {
      "text/plain": [
       "'2020-04-18'"
      ]
     },
     "execution_count": 266,
     "metadata": {},
     "output_type": "execute_result"
    }
   ],
   "source": []
  },
  {
   "cell_type": "code",
   "execution_count": null,
   "metadata": {},
   "outputs": [],
   "source": []
  }
 ],
 "metadata": {
  "kernelspec": {
   "display_name": "Python 3",
   "language": "python",
   "name": "python3"
  },
  "language_info": {
   "codemirror_mode": {
    "name": "ipython",
    "version": 3
   },
   "file_extension": ".py",
   "mimetype": "text/x-python",
   "name": "python",
   "nbconvert_exporter": "python",
   "pygments_lexer": "ipython3",
   "version": "3.7.4"
  }
 },
 "nbformat": 4,
 "nbformat_minor": 4
}
