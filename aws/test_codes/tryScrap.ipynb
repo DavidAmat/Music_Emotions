{
 "cells": [
  {
   "cell_type": "code",
   "execution_count": 7,
   "metadata": {},
   "outputs": [],
   "source": [
    "# Web Scrapping: Selenium\n",
    "from selenium import webdriver\n",
    "from selenium.webdriver.common.by import By\n",
    "from selenium.webdriver.support.ui import WebDriverWait\n",
    "from selenium.webdriver.support import expected_conditions as EC\n",
    "from selenium.common.exceptions import TimeoutException\n",
    "from selenium.webdriver.chrome.options import Options\n",
    "\n",
    "#Selenium options\n",
    "options = Options()\n",
    "\n",
    "options.add_argument(\"--headless\")\n",
    "options.add_argument(\"window-size=1400,1500\")\n",
    "options.add_argument(\"--disable-gpu\")\n",
    "options.add_argument(\"--no-sandbox\")\n",
    "options.add_argument(\"start-maximized\")\n",
    "options.add_argument(\"enable-automation\")\n",
    "options.add_argument(\"--disable-infobars\")\n",
    "options.add_argument(\"--disable-dev-shm-usage\")\n",
    "\n",
    "\n",
    "# Database\n",
    "import sqlalchemy as db\n",
    "import pandas as pd\n",
    "import sys\n",
    "import os\n",
    "import time\n",
    "import re #for avoiding looking at titles with starting parenthesis\n",
    "import numpy as np\n",
    "import tqdm\n",
    "\n",
    "#S3 interaction\n",
    "from io import StringIO \n",
    "import boto3\n",
    "\n",
    "# Logging\n",
    "from v_log import VLogger\n",
    "import logging\n"
   ]
  },
  {
   "cell_type": "code",
   "execution_count": 8,
   "metadata": {},
   "outputs": [],
   "source": [
    "browser = webdriver.Chrome(options=options) #50549"
   ]
  },
  {
   "cell_type": "code",
   "execution_count": 11,
   "metadata": {},
   "outputs": [],
   "source": [
    "\n",
    "browser.get(f\"https://www.youtube.com/results?search_query=rihanna+umbrella\")\n"
   ]
  },
  {
   "cell_type": "code",
   "execution_count": 12,
   "metadata": {},
   "outputs": [],
   "source": [
    " # List all the elements in video-title\n",
    "vid_title_elems = browser.find_elements_by_id('video-title')\n",
    "\n"
   ]
  },
  {
   "cell_type": "code",
   "execution_count": 15,
   "metadata": {},
   "outputs": [
    {
     "name": "stdout",
     "output_type": "stream",
     "text": [
      "Rihanna - Umbrella (Orange Version) (Official Music Video) ft. JAY-Z\n",
      "Rihanna   Umbrella lyrics   YouTube\n",
      "Rihanna -  Umbrella | Lyrics Songs\n",
      "Rihanna ft Jay Z  Umbrella original video\n",
      "Lip Sync Battle - Tom Holland\n",
      "Rihanna - Live in Manchester - Umbrella [HD]\n",
      "Rihanna - Diamonds\n",
      "Rihanna - Umbrella (Pepsi Smash)\n",
      "Ember Island - Umbrella (Lyrics / Lyric Video)\n",
      "Rihanna Umbrella  Acoustic Version\n",
      "Tom Holland Performs Rihanna's \"Umbrella\" | Lip Sync Battle\n",
      "Rihanna - Umbrella (LESSI Remix) (Bass Boosted)\n",
      "Lady Gaga - Paparazzi (Lyrics)\n",
      "Rihanna-California King Bed {Lyrics and download}\n",
      "Unfaithful - Rihanna (lyrics)\n",
      "Rihanna - Umbrella (Cinderella Remix) feat. Chris Brown & Jay-z\n",
      "Rihanna - Umbrella - Solo Version (without JayZ). ♥\n",
      "Rihanna - Umbrella - 蕾哈娜傘 - live\n",
      "Mix - Rihanna - Umbrella (Orange Version) (Official Music Video) ft. JAY-Z\n",
      "Rihanna - Umbrella (Orange Version) (Official Music Video) ft. JAY-Z\n",
      "Rihanna - Diamonds\n",
      "Chris Brown Ft  Rihanna   Live   Wall To Wall   Umbrella HD1\n",
      "Rihanna - Umbrella (Audio)\n",
      "Rihanna - Umbrella official\n",
      "Rihanna - Love On The Brain\n"
     ]
    }
   ],
   "source": [
    "for vte in vid_title_elems:\n",
    "    yt_title =  vte.get_attribute(\"title\")\n",
    "    yt_href  =  vte.get_attribute('href')\n",
    "    print(yt_title)"
   ]
  },
  {
   "cell_type": "code",
   "execution_count": null,
   "metadata": {},
   "outputs": [],
   "source": []
  }
 ],
 "metadata": {
  "kernelspec": {
   "display_name": "Python 3",
   "language": "python",
   "name": "python3"
  },
  "language_info": {
   "codemirror_mode": {
    "name": "ipython",
    "version": 3
   },
   "file_extension": ".py",
   "mimetype": "text/x-python",
   "name": "python",
   "nbconvert_exporter": "python",
   "pygments_lexer": "ipython3",
   "version": "3.7.6"
  }
 },
 "nbformat": 4,
 "nbformat_minor": 4
}
