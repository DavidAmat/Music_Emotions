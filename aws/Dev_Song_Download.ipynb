{
 "cells": [
  {
   "cell_type": "code",
   "execution_count": 6,
   "metadata": {},
   "outputs": [],
   "source": [
    "# Database\n",
    "import pandas as pd\n",
    "import sys\n",
    "import os\n",
    "import time\n",
    "import numpy as np\n",
    "import tqdm\n",
    "\n",
    "# Logging\n",
    "from v_log import VLogger\n",
    "import logging\n",
    "\n",
    "#S3 interaction\n",
    "from io import StringIO \n",
    "import boto3\n",
    "import subprocess\n",
    "import re"
   ]
  },
  {
   "cell_type": "code",
   "execution_count": 20,
   "metadata": {},
   "outputs": [],
   "source": [
    "def load_df_s3(folder_list_path, file_name, S3_BUCKET = 'musicemotions'):\n",
    "    \"\"\"\n",
    "    folder_list_path = [\"folder1\", \"folder2\", \"folder3\"]\n",
    "    file_name = \"1.csv\"\n",
    "    \"\"\"\n",
    "\n",
    "    s3 = boto3.client(\"s3\")\n",
    "    \n",
    "    # Convert list of folders in S3 to path\n",
    "    path_S3 = os.path.join(*folder_list_path,file_name) \n",
    "    print(path_S3)\n",
    "    csv_obj = s3.get_object(Bucket = S3_BUCKET,  Key = path_S3)\n",
    "    body = csv_obj['Body']\n",
    "    csv_string = body.read().decode('utf-8')\n",
    "    df = pd.read_csv(StringIO(csv_string))\n",
    "    return df\n",
    "\n",
    "def get_audio_size(url,max_audio_size = 6):\n",
    "    \"\"\"\n",
    "    Uses th youtube-dl -F argument to look for audio formats of that video\n",
    "    It lists the audio formats in different lines\n",
    "    Some of them terminate with MiB or KiB (size of audio file)\n",
    "    Some do not end with that... so maybe the only size you get is the high quality video\n",
    "    This size may be 4 or 5 times larger than the worst audio size, which is not reported in size, so we will trust\n",
    "    this criteria and download it. Whichever length that the first audio surpases 6MB or the highest quality ones\n",
    "    surpass 4 times that amount (24MB) they will not be eligible for download\n",
    "    \"\"\"\n",
    "    direct_output = subprocess.check_output(f'youtube-dl -F {url}', shell=True) \n",
    "    words_output = str(direct_output).split(\"\\\\n\")\n",
    "    counter_audio_record = 0;\n",
    "    for word in words_output:\n",
    "        counter_audio_record += 1; #which record has info abut MiB or KiB (maybe the first one has not this data)\n",
    "        if \"MiB\" in word:\n",
    "            try:\n",
    "                size_audio = re.findall(r\"(\\d+)(\\.\\d*)?MiB\",word)\n",
    "                size_audio_MiB = int(size_audio[0][0])\n",
    "                break\n",
    "            except:\n",
    "                size_audio_MiB = 1000;\n",
    "        if \"KiB\" in word:\n",
    "            try:\n",
    "                size_audio = re.findall(r\"(\\d+)(\\.\\d*)?KiB\",word)\n",
    "                size_audio_MiB = int(size_audio[0][0]) / 1000\n",
    "                break\n",
    "            except:\n",
    "                size_audio_MiB = 1000;\n",
    "    if size_audio_MiB < max_audio_size:\n",
    "        return True, size_audio_MiB, words_output# the size is less than the maximum, hence, download it!\n",
    "    # This correction is done for songs that on the first audio record has not a MiB or KiB\n",
    "    # but when looking at the high quaity audio a register is there and maybe its 10MB so the song with the worst\n",
    "    #audio will be small enough to be downloaded\n",
    "    elif size_audio_MiB >= max_audio_size and counter_audio_record > 5:  # if it was the first listed audio size and \n",
    "        if size_audio_MiB < max_audio_size*4: # if unless listed in HIGH quality audio does not oduble the max size\n",
    "            return True, size_audio_MiB, words_output #mark it as downloadable\n",
    "        else: # if it surpasses the 24MB in the high quality audio, better not to download it just in case\n",
    "            return False, size_audio_MiB, words_output\n",
    "    else:\n",
    "        return False, size_audio_MiB, words_output\n",
    "    \n",
    "    \n",
    "def comando_youtube(track_id, url, path_audio = 'data/'):\n",
    "    \"\"\"\n",
    "    Once the audio file size has been checked, we will download the worst audio to mp3 format\n",
    "    path_output = data/\n",
    "    url = youtube url\n",
    "    \"\"\"\n",
    "    comando1 = f'youtube-dl -ci -f \"worstaudio\" -x --audio-format mp3 '\n",
    "    path_output = path_audio +  track_id + \".mp3\"\n",
    "    comando2 = f\" --output {path_output}\"\n",
    "    return comando1 + url + comando2\n",
    "\n",
    "def file_to_S3(local_path, S3_path,  S3_BUCKET = 'musicemotions'):\n",
    "    \"\"\"\n",
    "    local_path = os.path.join(\"..\",\"webscrapping\",\"log\",\"WebScrap.log\")\n",
    "    S3_path = nonmatch-query/log.txt\n",
    "    \"\"\"\n",
    "    if S3_path:\n",
    "        s3 = boto3.resource('s3')\n",
    "        resp = s3.Object(S3_BUCKET, S3_path).put(Body=open(local_path, 'rb'))\n",
    "    else:\n",
    "        s3 = boto3.resource('s3')\n",
    "        resp = s3.Object(S3_BUCKET, S3_path).put(Body=open(local_path, 'rb'))\n",
    "    return resp\n",
    "\n",
    "# UPLOADING SONGS\n",
    "def get_destination_folder_mp3(audio_file):\n",
    "    return os.path.join(\"fs\",audio_file[2],audio_file[3],audio_file[4], audio_file)\n",
    "\n",
    "def upload_audio_minibatch():\n",
    "    for audio_file in os.listdir(\"data\"):\n",
    "        audio_local_path = os.path.join(\"data\", audio_file)\n",
    "        audio_S3_path = get_destination_folder_mp3(audio_file)\n",
    "        try:\n",
    "            resp_audio = file_to_S3(audio_local_path, audio_S3_path,  S3_BUCKET = 'musicemotions')\n",
    "        os.remove(os.path.join(\"data\", audio_file))"
   ]
  },
  {
   "cell_type": "code",
   "execution_count": 3,
   "metadata": {},
   "outputs": [],
   "source": [
    "batch_num = 0;"
   ]
  },
  {
   "cell_type": "code",
   "execution_count": 4,
   "metadata": {},
   "outputs": [
    {
     "name": "stdout",
     "output_type": "stream",
     "text": [
      "match-results/0.csv\n"
     ]
    }
   ],
   "source": [
    "folder_match_results = \"match-results\"\n",
    "file_name = f'{batch_num}.csv'\n",
    "df = load_df_s3([folder_match_results], file_name)\n",
    "df = df.sort_values(\"batch_id\")\n",
    "# Seleccionamos solo los registros que tengan batch_id > 0 (los -1 ya se han descargado)\n",
    "df = df[df[\"batch_id\"] >= 0]"
   ]
  },
  {
   "cell_type": "code",
   "execution_count": 5,
   "metadata": {},
   "outputs": [
    {
     "data": {
      "text/html": [
       "<div>\n",
       "<style scoped>\n",
       "    .dataframe tbody tr th:only-of-type {\n",
       "        vertical-align: middle;\n",
       "    }\n",
       "\n",
       "    .dataframe tbody tr th {\n",
       "        vertical-align: top;\n",
       "    }\n",
       "\n",
       "    .dataframe thead th {\n",
       "        text-align: right;\n",
       "    }\n",
       "</style>\n",
       "<table border=\"1\" class=\"dataframe\">\n",
       "  <thead>\n",
       "    <tr style=\"text-align: right;\">\n",
       "      <th></th>\n",
       "      <th>track_id</th>\n",
       "      <th>url</th>\n",
       "      <th>batch_id</th>\n",
       "    </tr>\n",
       "  </thead>\n",
       "  <tbody>\n",
       "    <tr>\n",
       "      <th>10232</th>\n",
       "      <td>TRNPEOL12903CBC2B8</td>\n",
       "      <td>https://www.youtube.com/watch?v=yxh95J0Gzx4</td>\n",
       "      <td>0</td>\n",
       "    </tr>\n",
       "    <tr>\n",
       "      <th>17721</th>\n",
       "      <td>TRXRACP12903CDB5E3</td>\n",
       "      <td>https://www.youtube.com/watch?v=wLDdF-8bSgw</td>\n",
       "      <td>0</td>\n",
       "    </tr>\n",
       "    <tr>\n",
       "      <th>4348</th>\n",
       "      <td>TRFTZYT12903CF81B1</td>\n",
       "      <td>https://www.youtube.com/watch?v=567c-LeINzs</td>\n",
       "      <td>0</td>\n",
       "    </tr>\n",
       "    <tr>\n",
       "      <th>15503</th>\n",
       "      <td>TRUQYPR128F92D067F</td>\n",
       "      <td>https://www.youtube.com/watch?v=UcoSZx8DjdM</td>\n",
       "      <td>0</td>\n",
       "    </tr>\n",
       "    <tr>\n",
       "      <th>6672</th>\n",
       "      <td>TRIWOBB128F4264F5F</td>\n",
       "      <td>https://www.youtube.com/watch?v=45IDW7D2td0</td>\n",
       "      <td>0</td>\n",
       "    </tr>\n",
       "    <tr>\n",
       "      <th>...</th>\n",
       "      <td>...</td>\n",
       "      <td>...</td>\n",
       "      <td>...</td>\n",
       "    </tr>\n",
       "    <tr>\n",
       "      <th>6845</th>\n",
       "      <td>TRJBGJU128F4273129</td>\n",
       "      <td>https://www.youtube.com/watch?v=3_jq8G_9uvo</td>\n",
       "      <td>1000</td>\n",
       "    </tr>\n",
       "    <tr>\n",
       "      <th>6843</th>\n",
       "      <td>TRJBGAG128F9322109</td>\n",
       "      <td>https://www.youtube.com/watch?v=8HVt9uw1Uq8</td>\n",
       "      <td>1000</td>\n",
       "    </tr>\n",
       "    <tr>\n",
       "      <th>6842</th>\n",
       "      <td>TRJBFQS128F1452CCC</td>\n",
       "      <td>https://www.youtube.com/watch?v=P-6rmwpXiG4</td>\n",
       "      <td>1000</td>\n",
       "    </tr>\n",
       "    <tr>\n",
       "      <th>6849</th>\n",
       "      <td>TRJBINI128F42442B1</td>\n",
       "      <td>https://www.youtube.com/watch?v=FZ6zvWrG4n4</td>\n",
       "      <td>1000</td>\n",
       "    </tr>\n",
       "    <tr>\n",
       "      <th>19441</th>\n",
       "      <td>TRZZZTZ128F92C5A5F</td>\n",
       "      <td>https://www.youtube.com/watch?v=MujTRDpvIyE</td>\n",
       "      <td>1000</td>\n",
       "    </tr>\n",
       "  </tbody>\n",
       "</table>\n",
       "<p>19442 rows × 3 columns</p>\n",
       "</div>"
      ],
      "text/plain": [
       "                 track_id                                          url  \\\n",
       "10232  TRNPEOL12903CBC2B8  https://www.youtube.com/watch?v=yxh95J0Gzx4   \n",
       "17721  TRXRACP12903CDB5E3  https://www.youtube.com/watch?v=wLDdF-8bSgw   \n",
       "4348   TRFTZYT12903CF81B1  https://www.youtube.com/watch?v=567c-LeINzs   \n",
       "15503  TRUQYPR128F92D067F  https://www.youtube.com/watch?v=UcoSZx8DjdM   \n",
       "6672   TRIWOBB128F4264F5F  https://www.youtube.com/watch?v=45IDW7D2td0   \n",
       "...                   ...                                          ...   \n",
       "6845   TRJBGJU128F4273129  https://www.youtube.com/watch?v=3_jq8G_9uvo   \n",
       "6843   TRJBGAG128F9322109  https://www.youtube.com/watch?v=8HVt9uw1Uq8   \n",
       "6842   TRJBFQS128F1452CCC  https://www.youtube.com/watch?v=P-6rmwpXiG4   \n",
       "6849   TRJBINI128F42442B1  https://www.youtube.com/watch?v=FZ6zvWrG4n4   \n",
       "19441  TRZZZTZ128F92C5A5F  https://www.youtube.com/watch?v=MujTRDpvIyE   \n",
       "\n",
       "       batch_id  \n",
       "10232         0  \n",
       "17721         0  \n",
       "4348          0  \n",
       "15503         0  \n",
       "6672          0  \n",
       "...         ...  \n",
       "6845       1000  \n",
       "6843       1000  \n",
       "6842       1000  \n",
       "6849       1000  \n",
       "19441      1000  \n",
       "\n",
       "[19442 rows x 3 columns]"
      ]
     },
     "execution_count": 5,
     "metadata": {},
     "output_type": "execute_result"
    }
   ],
   "source": [
    "df"
   ]
  },
  {
   "cell_type": "markdown",
   "metadata": {},
   "source": [
    "### Get audio size"
   ]
  },
  {
   "cell_type": "code",
   "execution_count": 6,
   "metadata": {},
   "outputs": [],
   "source": [
    "df_sample = df.sample(20, random_state = 4).copy()"
   ]
  },
  {
   "cell_type": "code",
   "execution_count": 7,
   "metadata": {},
   "outputs": [
    {
     "data": {
      "text/plain": [
       "(20, 3)"
      ]
     },
     "execution_count": 7,
     "metadata": {},
     "output_type": "execute_result"
    }
   ],
   "source": [
    "df_sample.shape"
   ]
  },
  {
   "cell_type": "code",
   "execution_count": 8,
   "metadata": {},
   "outputs": [
    {
     "name": "stderr",
     "output_type": "stream",
     "text": [
      "/root/.local/share/virtualenvs/Music_Emotions-u30QWrxn/lib/python3.7/site-packages/ipykernel_launcher.py:2: TqdmDeprecationWarning: This function will be removed in tqdm==5.0.0\n",
      "Please use `tqdm.notebook.tqdm` instead of `tqdm.tqdm_notebook`\n",
      "  \n"
     ]
    },
    {
     "data": {
      "application/vnd.jupyter.widget-view+json": {
       "model_id": "8d6b248219a44f7c96e7b43700069b7e",
       "version_major": 2,
       "version_minor": 0
      },
      "text/plain": [
       "HBox(children=(FloatProgress(value=1.0, bar_style='info', max=1.0), HTML(value='')))"
      ]
     },
     "metadata": {},
     "output_type": "display_data"
    },
    {
     "name": "stdout",
     "output_type": "stream",
     "text": [
      "Successfully downloaded:  TRYZAGM12903CF1F6E\n",
      "Successfully downloaded:  TRFSTLZ128F93138A3\n",
      "Successfully downloaded:  TRBUAPG128F148B5B8\n",
      "Successfully downloaded:  TRIUSBL128F932E5BC\n",
      "Successfully downloaded:  TRYHESR128E079942C\n",
      "Successfully downloaded:  TRZEBEX12903CE7549\n",
      "Successfully downloaded:  TRQQXIO128E078166F\n",
      "Successfully downloaded:  TRXVYED128F92F6EAD\n",
      "Successfully downloaded:  TRXHZUE12903CEF936\n",
      "Successfully downloaded:  TROTOKJ128F933268E\n",
      "Successfully downloaded:  TRCVSRS128F428D1BE\n",
      "Successfully downloaded:  TRLGIQE12903CD63B4\n",
      "Successfully downloaded:  TRDDCPL128F4271A9F\n",
      "Successfully downloaded:  TRVNEDO12903D06BBA\n",
      "Successfully downloaded:  TRDJMVQ12903CB45AB\n",
      "Successfully downloaded:  TRDLBIB128F4226B45\n",
      "Successfully downloaded:  TRVNNZZ12903CB395F\n",
      "Successfully downloaded:  TRUTIEL128F4268E76\n",
      "Successfully downloaded:  TRFTIIQ12903CDD027\n",
      "Successfully downloaded:  TRQHCEZ128F4231723\n",
      "\n"
     ]
    }
   ],
   "source": [
    "a = list(); b=list(); c= list();\n",
    "for ii, row in tqdm.tqdm_notebook(df_sample.iterrows()):\n",
    "    track_id, url, batch_id = row\n",
    "    \n",
    "    # Get the audio sizes available and filter out those that are over the reasonable length\n",
    "    resp, size_audio, request_response = get_audio_size(url)\n",
    "    a.append(resp); b.append(size_audio); c.append(request_response)\n",
    "    \n",
    "    # Skip the song that exceeds file size max in MiB:\n",
    "    if not resp:\n",
    "        continue\n",
    "        \n",
    "    # Specify output path\n",
    "    comando_descargar_audio = comando_youtube(track_id, url)\n",
    "        \n",
    "    # Download the audio file\n",
    "    comando_output = subprocess.check_output(comando_descargar_audio, shell=True) \n",
    "    if \"100%\" in str(comando_output):\n",
    "        print(\"Successfully downloaded: \", track_id)\n",
    "        continue\n",
    "    else:\n",
    "        # create a log info event indicating that error\n",
    "        print(\"Skip song: \", track_id)\n",
    "        continue"
   ]
  },
  {
   "cell_type": "markdown",
   "metadata": {},
   "source": [
    "## Upload audio"
   ]
  },
  {
   "cell_type": "code",
   "execution_count": 9,
   "metadata": {},
   "outputs": [
    {
     "data": {
      "text/plain": [
       "[]"
      ]
     },
     "execution_count": 9,
     "metadata": {},
     "output_type": "execute_result"
    }
   ],
   "source": [
    "os.listdir(\"data\")"
   ]
  },
  {
   "cell_type": "code",
   "execution_count": 15,
   "metadata": {},
   "outputs": [
    {
     "data": {
      "text/plain": [
       "'fs/F/S/T/TRFSTLZ128F93138A3.mp3'"
      ]
     },
     "execution_count": 15,
     "metadata": {},
     "output_type": "execute_result"
    }
   ],
   "source": [
    "ss = 'TRFSTLZ128F93138A3.mp3'\n",
    "get_destination_folder_mp3(ss)"
   ]
  },
  {
   "cell_type": "code",
   "execution_count": 14,
   "metadata": {},
   "outputs": [],
   "source": []
  },
  {
   "cell_type": "code",
   "execution_count": 18,
   "metadata": {},
   "outputs": [],
   "source": []
  },
  {
   "cell_type": "code",
   "execution_count": 19,
   "metadata": {},
   "outputs": [
    {
     "name": "stdout",
     "output_type": "stream",
     "text": [
      "['TRFSTLZ128F93138A3.mp3', 'TRXVYED128F92F6EAD.mp3', 'TRXHZUE12903CEF936.mp3', 'TRYHESR128E079942C.mp3', 'TRLGIQE12903CD63B4.mp3', 'TRDDCPL128F4271A9F.mp3', 'TRVNNZZ12903CB395F.mp3', 'TRUTIEL128F4268E76.mp3', 'TRDJMVQ12903CB45AB.mp3', 'TRFTIIQ12903CDD027.mp3', 'TRIUSBL128F932E5BC.mp3', 'TRQQXIO128E078166F.mp3', 'TRZEBEX12903CE7549.mp3', 'TRDLBIB128F4226B45.mp3', 'TRCVSRS128F428D1BE.mp3', 'TRQHCEZ128F4231723.mp3', 'TRYZAGM12903CF1F6E.mp3', 'TRVNEDO12903D06BBA.mp3', 'TROTOKJ128F933268E.mp3', 'TRBUAPG128F148B5B8.mp3']\n",
      "data/TRFSTLZ128F93138A3.mp3\n",
      "fs/F/S/T/TRFSTLZ128F93138A3.mp3\n",
      "-------------------------\n",
      "['TRXVYED128F92F6EAD.mp3', 'TRXHZUE12903CEF936.mp3', 'TRYHESR128E079942C.mp3', 'TRLGIQE12903CD63B4.mp3', 'TRDDCPL128F4271A9F.mp3', 'TRVNNZZ12903CB395F.mp3', 'TRUTIEL128F4268E76.mp3', 'TRDJMVQ12903CB45AB.mp3', 'TRFTIIQ12903CDD027.mp3', 'TRIUSBL128F932E5BC.mp3', 'TRQQXIO128E078166F.mp3', 'TRZEBEX12903CE7549.mp3', 'TRDLBIB128F4226B45.mp3', 'TRCVSRS128F428D1BE.mp3', 'TRQHCEZ128F4231723.mp3', 'TRYZAGM12903CF1F6E.mp3', 'TRVNEDO12903D06BBA.mp3', 'TROTOKJ128F933268E.mp3', 'TRBUAPG128F148B5B8.mp3']\n"
     ]
    }
   ],
   "source": []
  },
  {
   "cell_type": "code",
   "execution_count": null,
   "metadata": {},
   "outputs": [],
   "source": []
  },
  {
   "cell_type": "markdown",
   "metadata": {},
   "source": [
    "# Dev"
   ]
  },
  {
   "cell_type": "code",
   "execution_count": 14,
   "metadata": {},
   "outputs": [],
   "source": [
    "resp, size_audio, request_response = get_audio_size(\"https://www.youtube.com/watch?v=dKnXG-fyrfA\")"
   ]
  },
  {
   "cell_type": "code",
   "execution_count": 4,
   "metadata": {},
   "outputs": [
    {
     "ename": "NameError",
     "evalue": "name 'resp' is not defined",
     "output_type": "error",
     "traceback": [
      "\u001b[0;31m---------------------------------------------------------------------------\u001b[0m",
      "\u001b[0;31mNameError\u001b[0m                                 Traceback (most recent call last)",
      "\u001b[0;32m<ipython-input-4-99faf0599216>\u001b[0m in \u001b[0;36m<module>\u001b[0;34m\u001b[0m\n\u001b[0;32m----> 1\u001b[0;31m \u001b[0mresp\u001b[0m\u001b[0;34m\u001b[0m\u001b[0;34m\u001b[0m\u001b[0m\n\u001b[0m",
      "\u001b[0;31mNameError\u001b[0m: name 'resp' is not defined"
     ]
    }
   ],
   "source": [
    "resp"
   ]
  },
  {
   "cell_type": "code",
   "execution_count": 16,
   "metadata": {},
   "outputs": [
    {
     "data": {
      "text/plain": [
       "21"
      ]
     },
     "execution_count": 16,
     "metadata": {},
     "output_type": "execute_result"
    }
   ],
   "source": [
    "size_audio"
   ]
  },
  {
   "cell_type": "code",
   "execution_count": 17,
   "metadata": {},
   "outputs": [
    {
     "data": {
      "text/plain": [
       "[\"b'[youtube] dKnXG-fyrfA: Downloading webpage\",\n",
       " '[info] Available formats for dKnXG-fyrfA:',\n",
       " 'format code  extension  resolution note',\n",
       " '249          webm       audio only tiny   58k , opus @ 50k (48000Hz), 21.56MiB',\n",
       " '250          webm       audio only tiny   75k , opus @ 70k (48000Hz), 28.44MiB',\n",
       " '140          m4a        audio only tiny  134k , m4a_dash container, mp4a.40.2@128k (44100Hz), 61.51MiB',\n",
       " '251          webm       audio only tiny  136k , opus @160k (48000Hz), 56.38MiB',\n",
       " '160          mp4        256x144    144p  128k , avc1.4d400c, 30fps, video only, 38.37MiB',\n",
       " '278          webm       256x144    144p  143k , webm container, vp9, 30fps, video only, 46.19MiB',\n",
       " '242          webm       426x240    240p  228k , vp9, 30fps, video only, 77.65MiB',\n",
       " '133          mp4        426x240    240p  384k , avc1.4d4015, 30fps, video only, 83.94MiB',\n",
       " '243          webm       640x360    360p  413k , vp9, 30fps, video only, 135.57MiB',\n",
       " '134          mp4        640x360    360p  680k , avc1.4d401e, 30fps, video only, 154.06MiB',\n",
       " '244          webm       854x480    480p  760k , vp9, 30fps, video only, 212.29MiB',\n",
       " '135          mp4        854x480    480p 1128k , avc1.4d401f, 30fps, video only, 222.05MiB',\n",
       " '247          webm       1280x720   720p 1526k , vp9, 30fps, video only, 368.91MiB',\n",
       " '136          mp4        1280x720   720p 2182k , avc1.4d401f, 30fps, video only, 356.12MiB',\n",
       " '248          webm       1920x1080  1080p 2726k , vp9, 30fps, video only, 937.79MiB',\n",
       " '137          mp4        1920x1080  1080p 4334k , avc1.640028, 30fps, video only, 1.13GiB',\n",
       " '18           mp4        640x360    360p  639k , avc1.42001E, mp4a.40.2@ 96k (44100Hz), 303.60MiB (best)',\n",
       " \"'\"]"
      ]
     },
     "execution_count": 17,
     "metadata": {},
     "output_type": "execute_result"
    }
   ],
   "source": [
    "request_response"
   ]
  },
  {
   "cell_type": "code",
   "execution_count": 59,
   "metadata": {},
   "outputs": [],
   "source": [
    "direct_output = subprocess.check_output(f'youtube-dl -F {url}', shell=True) \n",
    "words_output = str(direct_output).split(\"\\\\n\")\n",
    "counter_audio_record = 0;"
   ]
  },
  {
   "cell_type": "code",
   "execution_count": 60,
   "metadata": {},
   "outputs": [
    {
     "data": {
      "text/plain": [
       "[\"b'[youtube] 9dgQSVAC7Mg: Downloading webpage\",\n",
       " '[youtube] 9dgQSVAC7Mg: Downloading MPD manifest',\n",
       " '[info] Available formats for 9dgQSVAC7Mg:',\n",
       " 'format code  extension  resolution note',\n",
       " '139          m4a        audio only DASH audio   48k , m4a_dash container, mp4a.40.5@ 48k (22050Hz)',\n",
       " '140          m4a        audio only DASH audio  128k , m4a_dash container, mp4a.40.2@128k (44100Hz)',\n",
       " '251          webm       audio only DASH audio  137k , webm_dash container, opus @160k (48000Hz)',\n",
       " '278          webm       192x144    DASH video   95k , webm_dash container, vp9, 25fps, video only',\n",
       " '160          mp4        192x144    DASH video  108k , mp4_dash container, avc1.4d400c, 25fps, video only',\n",
       " '242          webm       320x240    DASH video  220k , webm_dash container, vp9, 25fps, video only',\n",
       " '133          mp4        320x240    DASH video  247k , mp4_dash container, avc1.4d400d, 25fps, video only',\n",
       " '18           mp4        384x288    240p  552k , avc1.42001E, mp4a.40.2@ 96k (44100Hz), 20.24MiB (best)',\n",
       " \"'\"]"
      ]
     },
     "execution_count": 60,
     "metadata": {},
     "output_type": "execute_result"
    }
   ],
   "source": [
    "words_output"
   ]
  },
  {
   "cell_type": "code",
   "execution_count": 61,
   "metadata": {},
   "outputs": [],
   "source": [
    "for word in words_output:\n",
    "    counter_audio_record += 1; #which record has info abut MiB or KiB (maybe the first one has not this data)\n",
    "    if \"MiB\" in word:\n",
    "        try:\n",
    "            size_audio = re.findall(r\"(\\d+)(\\.\\d*)?MiB\",word)\n",
    "            size_audio_MiB = int(size_audio[0][0])\n",
    "            break\n",
    "        except:\n",
    "            size_audio_MiB = 1000;\n",
    "    if \"KiB\" in word:\n",
    "        try:\n",
    "            size_audio = re.findall(r\"(\\d+)(\\.\\d*)?KiB\",word)\n",
    "            size_audio_MiB = int(size_audio[0][0]) / 1000\n",
    "            break\n",
    "        except:\n",
    "            size_audio_MiB = 1000;"
   ]
  },
  {
   "cell_type": "code",
   "execution_count": 62,
   "metadata": {},
   "outputs": [
    {
     "data": {
      "text/plain": [
       "[('20', '.24')]"
      ]
     },
     "execution_count": 62,
     "metadata": {},
     "output_type": "execute_result"
    }
   ],
   "source": [
    "size_audio"
   ]
  },
  {
   "cell_type": "code",
   "execution_count": 64,
   "metadata": {},
   "outputs": [
    {
     "data": {
      "text/plain": [
       "[\"b'[youtube] 9dgQSVAC7Mg: Downloading webpage\",\n",
       " '[youtube] 9dgQSVAC7Mg: Downloading MPD manifest',\n",
       " '[info] Available formats for 9dgQSVAC7Mg:',\n",
       " 'format code  extension  resolution note',\n",
       " '139          m4a        audio only DASH audio   48k , m4a_dash container, mp4a.40.5@ 48k (22050Hz)',\n",
       " '140          m4a        audio only DASH audio  128k , m4a_dash container, mp4a.40.2@128k (44100Hz)',\n",
       " '251          webm       audio only DASH audio  137k , webm_dash container, opus @160k (48000Hz)',\n",
       " '278          webm       192x144    DASH video   95k , webm_dash container, vp9, 25fps, video only',\n",
       " '160          mp4        192x144    DASH video  108k , mp4_dash container, avc1.4d400c, 25fps, video only',\n",
       " '242          webm       320x240    DASH video  220k , webm_dash container, vp9, 25fps, video only',\n",
       " '133          mp4        320x240    DASH video  247k , mp4_dash container, avc1.4d400d, 25fps, video only',\n",
       " '18           mp4        384x288    240p  552k , avc1.42001E, mp4a.40.2@ 96k (44100Hz), 20.24MiB (best)',\n",
       " \"'\"]"
      ]
     },
     "execution_count": 64,
     "metadata": {},
     "output_type": "execute_result"
    }
   ],
   "source": [
    "words_output"
   ]
  },
  {
   "cell_type": "code",
   "execution_count": 69,
   "metadata": {},
   "outputs": [],
   "source": [
    "max_audio_size = 6\n",
    "if size_audio_MiB < max_audio_size:\n",
    "    print(True, size_audio_MiB, words_output)# the size is less than the maximum, hence, download it!\n",
    "# This correction is done for songs that on the first audio record has not a MiB or KiB\n",
    "# but when looking at the high quaity audio a register is there and maybe its 10MB so the song with the worst\n",
    "#audio will be small enough to be downloaded\n",
    "elif size_audio_MiB >= max_audio_size and counter_audio_record > 5:  # if it was the first listed audio size and \n",
    "    if size_audio_MiB < max_audio_size*2: # if unless listed in HIGH quality audio does not oduble the max size\n",
    "        print(True, size_audio_MiB, words_output) #mark it as downloadable\n",
    "else:\n",
    "    print(False, size_audio_MiB, words_output)"
   ]
  },
  {
   "cell_type": "code",
   "execution_count": 3,
   "metadata": {},
   "outputs": [
    {
     "ename": "NameError",
     "evalue": "name 'resp_audio' is not defined",
     "output_type": "error",
     "traceback": [
      "\u001b[0;31m---------------------------------------------------------------------------\u001b[0m",
      "\u001b[0;31mNameError\u001b[0m                                 Traceback (most recent call last)",
      "\u001b[0;32m<ipython-input-3-0ec85077a27a>\u001b[0m in \u001b[0;36m<module>\u001b[0;34m\u001b[0m\n\u001b[0;32m----> 1\u001b[0;31m \u001b[0mresp_audio\u001b[0m\u001b[0;34m\u001b[0m\u001b[0;34m\u001b[0m\u001b[0m\n\u001b[0m",
      "\u001b[0;31mNameError\u001b[0m: name 'resp_audio' is not defined"
     ]
    }
   ],
   "source": [
    "resp_audio"
   ]
  },
  {
   "cell_type": "code",
   "execution_count": null,
   "metadata": {},
   "outputs": [],
   "source": []
  }
 ],
 "metadata": {
  "kernelspec": {
   "display_name": "Python 3",
   "language": "python",
   "name": "python3"
  },
  "language_info": {
   "codemirror_mode": {
    "name": "ipython",
    "version": 3
   },
   "file_extension": ".py",
   "mimetype": "text/x-python",
   "name": "python",
   "nbconvert_exporter": "python",
   "pygments_lexer": "ipython3",
   "version": "3.7.5"
  }
 },
 "nbformat": 4,
 "nbformat_minor": 4
}
